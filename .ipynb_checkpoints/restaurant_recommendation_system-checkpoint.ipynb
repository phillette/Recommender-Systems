{
 "cells": [
  {
   "cell_type": "markdown",
   "metadata": {},
   "source": [
    "# Restaurant Recommendation System\n",
    "\n",
    "## Notebook by [Wenyi Xu](\"https://github.com/xuwenyihust\")\n",
    "\n",
    "### My own solution to Harvard CS 109 HW4\n",
    "<br/>\n",
    "### Import libraries & some preparation works"
   ]
  },
  {
   "cell_type": "code",
   "execution_count": null,
   "metadata": {
    "collapsed": false
   },
   "outputs": [],
   "source": [
    "%matplotlib inline\n",
    "from collections import defaultdict\n",
    "import json\n",
    "\n",
    "import numpy as np\n",
    "import scipy as sp\n",
    "import matplotlib.pyplot as plt\n",
    "import pandas as pd\n",
    "\n",
    "from matplotlib import rcParams\n",
    "import matplotlib.cm as cm\n",
    "import matplotlib as mpl\n",
    "\n",
    "#colorbrewer2 Dark2 qualitative color table\n",
    "dark2_colors = [(0.10588235294117647, 0.6196078431372549, 0.4666666666666667),\n",
    "                (0.8509803921568627, 0.37254901960784315, 0.00784313725490196),\n",
    "                (0.4588235294117647, 0.4392156862745098, 0.7019607843137254),\n",
    "                (0.9058823529411765, 0.1607843137254902, 0.5411764705882353),\n",
    "                (0.4, 0.6509803921568628, 0.11764705882352941),\n",
    "                (0.9019607843137255, 0.6705882352941176, 0.00784313725490196),\n",
    "                (0.6509803921568628, 0.4627450980392157, 0.11372549019607843)]\n",
    "\n",
    "rcParams['figure.figsize'] = (10, 6)\n",
    "rcParams['figure.dpi'] = 150\n",
    "#rcParams['axes.prop_cycle'] = dark2_colors\n",
    "rcParams['lines.linewidth'] = 2\n",
    "rcParams['axes.facecolor'] = 'white'\n",
    "rcParams['font.size'] = 14\n",
    "rcParams['patch.edgecolor'] = 'white'\n",
    "rcParams['patch.facecolor'] = dark2_colors[0]\n",
    "rcParams['font.family'] = 'StixGeneral'\n",
    "\n",
    "\n",
    "def remove_border(axes=None, top=False, right=False, left=True, bottom=True):\n",
    "    \"\"\"\n",
    "    Minimize chartjunk by stripping out unnecesasry plot borders and axis ticks\n",
    "    \n",
    "    The top/right/left/bottom keywords toggle whether the corresponding plot border is drawn\n",
    "    \"\"\"\n",
    "    ax = axes or plt.gca()\n",
    "    ax.spines['top'].set_visible(top)\n",
    "    ax.spines['right'].set_visible(right)\n",
    "    ax.spines['left'].set_visible(left)\n",
    "    ax.spines['bottom'].set_visible(bottom)\n",
    "    \n",
    "    #turn off all ticks\n",
    "    ax.yaxis.set_ticks_position('none')\n",
    "    ax.xaxis.set_ticks_position('none')\n",
    "    \n",
    "    #now re-enable visibles\n",
    "    if top:\n",
    "        ax.xaxis.tick_top()\n",
    "    if bottom:\n",
    "        ax.xaxis.tick_bottom()\n",
    "    if left:\n",
    "        ax.yaxis.tick_left()\n",
    "    if right:\n",
    "        ax.yaxis.tick_right()\n",
    "        \n",
    "pd.set_option('display.width', 500)\n",
    "pd.set_option('display.max_columns', 100)"
   ]
  },
  {
   "cell_type": "markdown",
   "metadata": {},
   "source": [
    "### Load the dataset"
   ]
  },
  {
   "cell_type": "code",
   "execution_count": null,
   "metadata": {
    "collapsed": false
   },
   "outputs": [],
   "source": [
    "fulldf=pd.read_csv(\"https://raw.githubusercontent.com/xuwenyihust/Restaurant-Recommendation-System/master/bigdf.csv\")\n",
    "fulldf.head(2)"
   ]
  },
  {
   "cell_type": "markdown",
   "metadata": {},
   "source": [
    "## Q1. Writing a simple \"global\" recommender\n",
    "\n",
    "Assume that every users perceive the similarity between items in the same way. (**global similarity** instead of user-specific similarity)\n",
    "\n",
    "Calculate the similarity between items by their entire common user support.\n",
    "\n",
    "**common user support:** use the set of common raters of both items to measure the similarity between items.\n",
    "<br/>\n",
    "<br/>\n",
    "### Exploratory Data Analysis\n",
    "\n",
    "**1.1** Visualize the sparsity of the full data set by plotting two histograms of the review count grouped by the user_id and business_id respectively. Are there more users or more businesses?\n",
    "\n",
    "We can see from the plots that users with 0~3 reviews are the most,\n",
    "\n",
    "and that businesses with 0~5 reviews are the most.\n",
    "\n",
    "<br/>"
   ]
  },
  {
   "cell_type": "code",
   "execution_count": null,
   "metadata": {
    "collapsed": false
   },
   "outputs": [],
   "source": [
    "# Number of review_ids for each user_id\n",
    "review_per_user = fulldf.groupby([\"user_id\"])[\"review_id\"].count()\n",
    "print(review_per_user[:5])\n",
    "\n",
    "bin_cnt = len(set(review_per_user.tolist()))\n",
    "\n",
    "fig, ax = plt.subplots()\n",
    "ax.set(xlabel=\"Review count\", ylabel=\"User count\", title=\"Distribution of review count per user\")\n",
    "remove_border(ax)\n",
    "#ax.axis('off')\n",
    "plt.hist(review_per_user, bins=int(bin_cnt/3), log=True)\n",
    "plt.grid(False)\n",
    "plt.grid(axis = 'y', color ='white', linestyle='-')\n",
    "plt.show()"
   ]
  },
  {
   "cell_type": "code",
   "execution_count": null,
   "metadata": {
    "collapsed": false
   },
   "outputs": [],
   "source": [
    "# Number of review_ids for each business_id\n",
    "review_per_business = fulldf.groupby([\"business_id\"])[\"review_id\"].count()\n",
    "print(review_per_business[:5])\n",
    "\n",
    "bin_cnt = len(set(review_per_business.tolist()))\n",
    "\n",
    "fig, ax = plt.subplots()\n",
    "ax.set(xlabel=\"Review count\", ylabel=\"Business count\", title=\"Distribution of review count per business\")\n",
    "remove_border(ax)\n",
    "#ax.axis('off')\n",
    "plt.hist(review_per_business, bins=int(bin_cnt/5), log=True)\n",
    "plt.grid(False)\n",
    "plt.grid(axis = 'y', color ='white', linestyle='-')\n",
    "plt.show()"
   ]
  },
  {
   "cell_type": "markdown",
   "metadata": {},
   "source": [
    "Compare the number of users & businesses."
   ]
  },
  {
   "cell_type": "code",
   "execution_count": null,
   "metadata": {
    "collapsed": false
   },
   "outputs": [],
   "source": [
    "user_cnt = len(set(fulldf[\"user_id\"].tolist()))\n",
    "business_cnt = len(set(fulldf[\"business_id\"].tolist()))\n",
    "print(\"More users than businesses.\") if user_cnt > business_cnt else print(\"More users than businesses.\")"
   ]
  },
  {
   "cell_type": "markdown",
   "metadata": {},
   "source": [
    "<br/>\n",
    "\n",
    "**1.2** Compute the average rating of reviews in the data set and a histogram of all the ratings in the dataset."
   ]
  },
  {
   "cell_type": "code",
   "execution_count": null,
   "metadata": {
    "collapsed": false
   },
   "outputs": [],
   "source": [
    "# The average rating of all reviews\n",
    "avg_rating = fulldf[\"stars\"].mean()\n",
    "print(\"Average rating: \",avg_rating)\n",
    "\n",
    "# Histogram of all the ratings\n",
    "fig, ax = plt.subplots()\n",
    "ax.set(xlabel=\"Rating\", ylabel=\"Count\", title=\"Distribution of ratings\")\n",
    "remove_border(ax)\n",
    "plt.hist(fulldf[\"stars\"], bins=5)\n",
    "plt.grid(False)\n",
    "plt.grid(axis = 'y', color ='white', linestyle='-')\n",
    "plt.show()"
   ]
  },
  {
   "cell_type": "markdown",
   "metadata": {},
   "source": [
    "\n",
    "<br/>\n",
    "The following function is used to re-compute review counts and averages whenever you subset a reviews data frame. We'll use it soon to construct a smaller, more computationally tractable data frame.\n",
    "\n",
    "<br/>"
   ]
  },
  {
   "cell_type": "code",
   "execution_count": null,
   "metadata": {
    "collapsed": true
   },
   "outputs": [],
   "source": [
    "def recompute_frame(ldf):\n",
    "    \"\"\"\n",
    "    takes a dataframe ldf, makes a copy of it, and returns the copy\n",
    "    with all averages and review counts recomputed\n",
    "    this is used when a frame is subsetted.\n",
    "    \"\"\"\n",
    "    ldfu=ldf.groupby('user_id')\n",
    "    ldfb=ldf.groupby('business_id')\n",
    "    user_avg=ldfu.stars.mean()\n",
    "    user_review_count=ldfu.review_id.count()\n",
    "    business_avg=ldfb.stars.mean()\n",
    "    business_review_count=ldfb.review_id.count()\n",
    "    nldf=ldf.copy()\n",
    "    nldf.set_index(['business_id'], inplace=True)\n",
    "    nldf['business_avg']=business_avg\n",
    "    nldf['business_review_count']=business_review_count\n",
    "    nldf.reset_index(inplace=True)\n",
    "    nldf.set_index(['user_id'], inplace=True)\n",
    "    nldf['user_avg']=user_avg\n",
    "    nldf['user_review_count']=user_review_count\n",
    "    nldf.reset_index(inplace=True)\n",
    "    return nldf"
   ]
  },
  {
   "cell_type": "markdown",
   "metadata": {},
   "source": [
    "\n",
    "<br/>\n",
    "**1.3** Create a smaller data set in dataframe smalldf by looking for those businesses with more than 150 reviews and those users with more than 60 reviews. Include all the columns that were there in the parent dataframe. Since you have created a subset of the data set, use the method provided above to recalculate the averages. Print the number of unique users and items in this data set.\n",
    "\n",
    "Note that while this cut makes sure we have prolific users, the cut on businesses restores sparsity by reducing the number of reviews per user.\n",
    "\n",
    "<br/>"
   ]
  },
  {
   "cell_type": "code",
   "execution_count": null,
   "metadata": {
    "collapsed": false
   },
   "outputs": [],
   "source": [
    "smalldf=fulldf[(fulldf.user_review_count > 60) & (fulldf.business_review_count > 150)]\n",
    "smalldf=recompute_frame(smalldf)"
   ]
  },
  {
   "cell_type": "markdown",
   "metadata": {},
   "source": [
    "How does this compare to the parent data set, in terms of size and sparsity? Once again, plot histograms of the review count grouped by user, and by the review count grouped by business, respectively, and describe the results"
   ]
  },
  {
   "cell_type": "code",
   "execution_count": null,
   "metadata": {
    "collapsed": false
   },
   "outputs": [],
   "source": [
    "review_per_user = smalldf.groupby([\"user_id\"])[\"review_id\"].count()\n",
    "print(review_per_user[:5])\n",
    "\n",
    "bin_cnt = len(set(review_per_user.tolist()))\n",
    "\n",
    "fig, ax = plt.subplots()\n",
    "ax.set(xlabel=\"Review count\", ylabel=\"User count\", title=\"Distribution of review count per user\")\n",
    "remove_border(ax)\n",
    "#ax.axis('off')\n",
    "plt.hist(review_per_user, bins=int(bin_cnt/5), log=True)\n",
    "plt.grid(False)\n",
    "plt.grid(axis = 'y', color ='white', linestyle='-')\n",
    "plt.show()"
   ]
  },
  {
   "cell_type": "code",
   "execution_count": null,
   "metadata": {
    "collapsed": false
   },
   "outputs": [],
   "source": [
    "review_per_business = smalldf.groupby([\"business_id\"])[\"review_id\"].count()\n",
    "print(review_per_business[:5])\n",
    "\n",
    "bin_cnt = len(set(review_per_business.tolist()))\n",
    "\n",
    "fig, ax = plt.subplots()\n",
    "ax.set(xlabel=\"Review count\", ylabel=\"Business count\", title=\"Distribution of review count per business\")\n",
    "remove_border(ax)\n",
    "#ax.axis('off')\n",
    "plt.hist(review_per_user, bins=int(bin_cnt/2), log=True)\n",
    "plt.grid(False)\n",
    "plt.grid(axis = 'y', color ='white', linestyle='-')\n",
    "plt.show()"
   ]
  }
 ],
 "metadata": {
  "kernelspec": {
   "display_name": "Python 3",
   "language": "python",
   "name": "python3"
  },
  "language_info": {
   "codemirror_mode": {
    "name": "ipython",
    "version": 3
   },
   "file_extension": ".py",
   "mimetype": "text/x-python",
   "name": "python",
   "nbconvert_exporter": "python",
   "pygments_lexer": "ipython3",
   "version": "3.5.1"
  }
 },
 "nbformat": 4,
 "nbformat_minor": 0
}
