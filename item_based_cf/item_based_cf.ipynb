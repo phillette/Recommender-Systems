{
 "cells": [
  {
   "cell_type": "markdown",
   "metadata": {},
   "source": [
    "# Recommendation System\n",
    "\n",
    "## Item-Based Collaborative Filtering\n",
    "\n",
    "## Notebook by [WenyiXu](https://github.com/xuwenyihust)"
   ]
  },
  {
   "cell_type": "markdown",
   "metadata": {
    "collapsed": true
   },
   "source": [
    "### Loading the data"
   ]
  },
  {
   "cell_type": "code",
   "execution_count": 1,
   "metadata": {
    "collapsed": true
   },
   "outputs": [],
   "source": [
    "%matplotlib inline\n",
    "\n",
    "import sqlite3\n",
    "import pandas as pd\n",
    "import numpy as np\n",
    "import matplotlib.pyplot as plt\n",
    "import numpy as np\n",
    "from scipy.stats.stats import pearsonr\n",
    "\n",
    "from sklearn import cross_validation\n",
    "from sklearn.metrics import mean_squared_error\n",
    "\n",
    "fulldf=pd.read_csv(\"https://raw.githubusercontent.com/xuwenyihust/Recommendation-Systems/master/data/bigdf.csv\")"
   ]
  },
  {
   "cell_type": "code",
   "execution_count": 11,
   "metadata": {
    "collapsed": false
   },
   "outputs": [
    {
     "name": "stdout",
     "output_type": "stream",
     "text": [
      "                  user_id             business_id                 date  \\\n",
      "0  rLtl8ZkDX5vH5nAx9C3q5Q  9yKzy9PApeiPPOUJEtnvkg  2011-01-26 00:00:00   \n",
      "1  SBbftLzfYYKItOMFwOTIJg  9yKzy9PApeiPPOUJEtnvkg  2008-05-04 00:00:00   \n",
      "2  mlBC3pN9GXlUUfQi1qBBZA  9yKzy9PApeiPPOUJEtnvkg  2010-07-05 00:00:00   \n",
      "3  0bNXP9quoJEgyVZu9ipGgQ  9yKzy9PApeiPPOUJEtnvkg  2012-10-10 00:00:00   \n",
      "4  T7J9ae0wTskrI_Bgwp-4cA  9yKzy9PApeiPPOUJEtnvkg  2009-12-17 00:00:00   \n",
      "\n",
      "                review_id  stars  usefulvotes_review user_name  \\\n",
      "0  fWKvX83p0-ka4JS3dc6E5A      5                   5     Jason   \n",
      "1  DASdFe-g0BgfN9J2tanStg      5                   1  Jennifer   \n",
      "2  W8CX2h_hmODWmgSJVbMifw      2                   1  Jennifer   \n",
      "3  nYVQiPGeiwr7g5BSX7WDJg      3                   9    Aileen   \n",
      "4  grZNCXAgd-OH8daA28R-2A      3                   1   Jasmine   \n",
      "\n",
      "                          categories            biz_name   latitude  \\\n",
      "0  [Breakfast & Brunch, Restaurants]  Morning Glory Cafe  33.390792   \n",
      "1  [Breakfast & Brunch, Restaurants]  Morning Glory Cafe  33.390792   \n",
      "2  [Breakfast & Brunch, Restaurants]  Morning Glory Cafe  33.390792   \n",
      "3  [Breakfast & Brunch, Restaurants]  Morning Glory Cafe  33.390792   \n",
      "4  [Breakfast & Brunch, Restaurants]  Morning Glory Cafe  33.390792   \n",
      "\n",
      "    longitude  business_avg  business_review_count  user_avg  \\\n",
      "0 -112.012504       3.87156                    109  3.796954   \n",
      "1 -112.012504       3.87156                    109  3.473684   \n",
      "2 -112.012504       3.87156                    109  3.702381   \n",
      "3 -112.012504       3.87156                    109  3.180077   \n",
      "4 -112.012504       3.87156                    109  3.343284   \n",
      "\n",
      "   user_review_count  \n",
      "0                197  \n",
      "1                 57  \n",
      "2                 84  \n",
      "3                261  \n",
      "4                201  \n",
      "(149319, 15)\n"
     ]
    }
   ],
   "source": [
    "print(fulldf.head(5))\n",
    "print(fulldf.shape)"
   ]
  },
  {
   "cell_type": "markdown",
   "metadata": {},
   "source": [
    "### Brief Exploratory analysis"
   ]
  },
  {
   "cell_type": "code",
   "execution_count": 12,
   "metadata": {
    "collapsed": false
   },
   "outputs": [
    {
     "name": "stdout",
     "output_type": "stream",
     "text": [
      "(149319, 15)\n",
      "(34789,)\n",
      "(4503,)\n"
     ]
    }
   ],
   "source": [
    "print(fulldf.shape)\n",
    "print(fulldf['user_id'].unique().shape)\n",
    "print(fulldf['business_id'].unique().shape)"
   ]
  },
  {
   "cell_type": "markdown",
   "metadata": {},
   "source": [
    "We can see that the number of unique users are much larger than the number of unique items."
   ]
  },
  {
   "cell_type": "code",
   "execution_count": 13,
   "metadata": {
    "collapsed": false
   },
   "outputs": [
    {
     "data": {
      "image/png": "[encoded data removed]",
      "text/plain": [
       "<matplotlib.figure.Figure at 0x1978be959e8>"
      ]
     },
     "metadata": {},
     "output_type": "display_data"
    },
    {
     "data": {
      "image/png": "[encoded data removed]",
      "text/plain": [
       "<matplotlib.figure.Figure at 0x19783d0d780>"
      ]
     },
     "metadata": {},
     "output_type": "display_data"
    }
   ],
   "source": [
    "fig, ax = plt.subplots()\n",
    "reviews_per_user=fulldf.groupby(['user_id'])['business_id'].count()\n",
    "ax.set(xlim=(0,100), xlabel='Reviews per user')\n",
    "plt.grid(False)\n",
    "plt.grid(axis = 'y', color ='white', linestyle='-')\n",
    "plt.hist(reviews_per_user, bins=30, log=False, color=\"Blue\")\n",
    "plt.show()\n",
    "\n",
    "fig, ax = plt.subplots()\n",
    "reviews_per_item=fulldf.groupby(['business_id'])['user_id'].count()\n",
    "ax.set(xlim=(0,100), xlabel='Reviews per restaurant')\n",
    "plt.grid(False)\n",
    "plt.grid(axis = 'y', color ='white', linestyle='-')\n",
    "plt.hist(reviews_per_item, bins=70, log=False, color=\"Blue\")\n",
    "plt.show()"
   ]
  },
  {
   "cell_type": "markdown",
   "metadata": {},
   "source": [
    "The plots show that most users reviewed on less than 20 item. And most items have less than 20 reviews.\n",
    "\n",
    "In this case, there will be very small number of co-rated items or even no such one between 2 users.\n",
    "\n",
    "This may lead to a bad result."
   ]
  },
  {
   "cell_type": "markdown",
   "metadata": {},
   "source": [
    "### Reduce Sparsity\n",
    "\n",
    "Reduce the sparsity of the data set, construct a new smalldf."
   ]
  },
  {
   "cell_type": "code",
   "execution_count": 14,
   "metadata": {
    "collapsed": true
   },
   "outputs": [],
   "source": [
    "smalldf=fulldf[(fulldf.user_review_count > 60) & (fulldf.business_review_count > 150)]"
   ]
  },
  {
   "cell_type": "markdown",
   "metadata": {},
   "source": [
    "### Re-analyze the Reduced Data"
   ]
  },
  {
   "cell_type": "code",
   "execution_count": 15,
   "metadata": {
    "collapsed": false
   },
   "outputs": [
    {
     "data": {
      "image/png": "[encoded data removed]",
      "text/plain": [
       "<matplotlib.figure.Figure at 0x1978c354828>"
      ]
     },
     "metadata": {},
     "output_type": "display_data"
    },
    {
     "data": {
      "image/png": "[encoded data removed]",
      "text/plain": [
       "<matplotlib.figure.Figure at 0x1978c354f28>"
      ]
     },
     "metadata": {},
     "output_type": "display_data"
    }
   ],
   "source": [
    "fig, ax = plt.subplots()\n",
    "reviews_per_user=smalldf.groupby(['user_id'])['business_id'].count()\n",
    "ax.set(xlim=(0,100), xlabel='Reviews per user')\n",
    "plt.grid(False)\n",
    "plt.grid(axis = 'y', color ='white', linestyle='-')\n",
    "plt.hist(reviews_per_user, bins=10, log=False, color=\"Blue\")\n",
    "plt.show()\n",
    "\n",
    "fig, ax = plt.subplots()\n",
    "reviews_per_item=smalldf.groupby(['business_id'])['user_id'].count()\n",
    "ax.set(xlim=(0,100), xlabel='Reviews per restaurant')\n",
    "plt.grid(False)\n",
    "plt.grid(axis = 'y', color ='white', linestyle='-')\n",
    "plt.hist(reviews_per_item, bins=10, log=False, color=\"Blue\")\n",
    "plt.show()"
   ]
  },
  {
   "cell_type": "markdown",
   "metadata": {},
   "source": [
    "Now it's better than the original dataset."
   ]
  },
  {
   "cell_type": "markdown",
   "metadata": {},
   "source": [
    "### Train/Test Split\n",
    "\n",
    "Split the train & test dataset, use the train subset to train the model, and validate the model using test subset."
   ]
  },
  {
   "cell_type": "code",
   "execution_count": 16,
   "metadata": {
    "collapsed": false
   },
   "outputs": [
    {
     "name": "stdout",
     "output_type": "stream",
     "text": [
      "(4932, 5) (4932, 1)\n",
      "(1233, 5) (1233, 1)\n",
      "                      user_id             business_id               review_id  \\\n",
      "13489  dQO0tQISZyb9L4d5ASnXyQ  cp39VURFby4A6u9m2It8jg  cAzfisNGbqh0SWCz8eJvxg   \n",
      "80486  XBHJCDzNh--mBhJkzyM_iA  h6jfMpTZpNduLG0wE2tbaw  luPPybgUbV9zmFSHxRuv_Q   \n",
      "4080   XqMkm-DD9VsdcKx2YVGhSA  s1dex3Z3QoqiK7V-zXUgAw  P8bbNJmogxR6fk9PFpOi_Q   \n",
      "23816  NvDR3SPVPXrDB_dbKuGoWA  byhwHi0lhYdyY5kSpuqoaQ  dyJXDBwfCJnCqLNFR-fPUA   \n",
      "9209   rO3WEI9L-_deUR9-JHuNQw  7_zL7NX_rDFwhbLp98PwZg  vq3G0Eh6vH1gZshGM52MnA   \n",
      "\n",
      "       user_avg  business_avg  \n",
      "13489  3.478261      3.662021  \n",
      "80486  3.800000      4.042781  \n",
      "4080   3.586538      4.030435  \n",
      "23816  3.354610      3.605263  \n",
      "9209   3.269841      2.934783  \n",
      "                      user_id             business_id               review_id  \\\n",
      "10101  ZC49A1K-if7KP8VJXoqELQ  3n9mSKySEv3G03YjcU-YOQ  pHfhAyYOKldTxIHV6zsYJQ   \n",
      "4413   waD2euOMPTnTzQ0thq3H6Q  c1yGkETheht_1vjda7G5sA  fDmXpS-0lmWmNPehY5nZDQ   \n",
      "46865  eBwBjylS66qPcHs2_ajLag  8Hn5X1AqgmSLHRG2KgBJBg  ATWL1tDkeM7wr729jy3Nzg   \n",
      "45803  UuwjD6MZf6Z6QlNphiXRjA  EWMwV5V9BxNs_U6nNVMeqw  J5NlUutLwTyCW4FsA01jPw   \n",
      "9573   _PzSNcfrCjeBxSLXRoMmgQ  pwpl-rxwNRQdgqFz_-qMPg  IiLvEwWw0IabWinmCyvV2Q   \n",
      "\n",
      "       user_avg  business_avg  \n",
      "10101  3.945946      4.328804  \n",
      "4413   3.627907      4.283814  \n",
      "46865  3.519608      4.134409  \n",
      "45803  3.623853      4.142140  \n",
      "9573   3.559809      4.213656  \n"
     ]
    }
   ],
   "source": [
    "X = smalldf[['user_id', 'business_id', 'review_id', 'user_avg', 'business_avg']]\n",
    "y = smalldf[['stars']]\n",
    "\n",
    "X_train, X_test, y_train, y_test = cross_validation.train_test_split(X, y, test_size=0.2, random_state=42)\n",
    "\n",
    "print(X_train.shape, y_train.shape)\n",
    "print(X_test.shape, y_test.shape)\n",
    "\n",
    "print(X_train.head(5))\n",
    "print(X_test.head(5))"
   ]
  },
  {
   "cell_type": "markdown",
   "metadata": {},
   "source": [
    "### Construct traindf & testdf"
   ]
  },
  {
   "cell_type": "code",
   "execution_count": 20,
   "metadata": {
    "collapsed": false
   },
   "outputs": [
    {
     "name": "stdout",
     "output_type": "stream",
     "text": [
      "                      user_id             business_id               review_id  \\\n",
      "13489  dQO0tQISZyb9L4d5ASnXyQ  cp39VURFby4A6u9m2It8jg  cAzfisNGbqh0SWCz8eJvxg   \n",
      "80486  XBHJCDzNh--mBhJkzyM_iA  h6jfMpTZpNduLG0wE2tbaw  luPPybgUbV9zmFSHxRuv_Q   \n",
      "\n",
      "       user_avg  business_avg  stars  \n",
      "13489  3.478261      3.662021      3  \n",
      "80486  3.800000      4.042781      2  \n",
      "---------------------------------------\n",
      "                      user_id             business_id               review_id  \\\n",
      "10101  ZC49A1K-if7KP8VJXoqELQ  3n9mSKySEv3G03YjcU-YOQ  pHfhAyYOKldTxIHV6zsYJQ   \n",
      "4413   waD2euOMPTnTzQ0thq3H6Q  c1yGkETheht_1vjda7G5sA  fDmXpS-0lmWmNPehY5nZDQ   \n",
      "\n",
      "       user_avg  business_avg  stars  \n",
      "10101  3.945946      4.328804      4  \n",
      "4413   3.627907      4.283814      5  \n",
      "---------------------------------------\n"
     ]
    },
    {
     "name": "stderr",
     "output_type": "stream",
     "text": [
      "C:\\Users\\Wenyi Xu\\Anaconda3\\lib\\site-packages\\ipykernel\\__main__.py:3: SettingWithCopyWarning: \n",
      "A value is trying to be set on a copy of a slice from a DataFrame.\n",
      "Try using .loc[row_indexer,col_indexer] = value instead\n",
      "\n",
      "See the caveats in the documentation: http://pandas.pydata.org/pandas-docs/stable/indexing.html#indexing-view-versus-copy\n",
      "  app.launch_new_instance()\n",
      "C:\\Users\\Wenyi Xu\\Anaconda3\\lib\\site-packages\\ipykernel\\__main__.py:7: SettingWithCopyWarning: \n",
      "A value is trying to be set on a copy of a slice from a DataFrame.\n",
      "Try using .loc[row_indexer,col_indexer] = value instead\n",
      "\n",
      "See the caveats in the documentation: http://pandas.pydata.org/pandas-docs/stable/indexing.html#indexing-view-versus-copy\n"
     ]
    }
   ],
   "source": [
    "traindf = X_train\n",
    "#traindf.loc[:,'stars'] = y_train\n",
    "traindf['stars'] = y_train\n",
    "\n",
    "testdf = X_test\n",
    "#testdf.loc[:, 'stars'] = y_test\n",
    "testdf['stars'] = y_test\n",
    "\n",
    "print(traindf.head(2))\n",
    "print('---------------------------------------')\n",
    "print(testdf.head(2))\n",
    "print('---------------------------------------')"
   ]
  },
  {
   "cell_type": "markdown",
   "metadata": {},
   "source": [
    "### Get item reviews\n",
    "\n",
    "Given an item and a set of users, return the reviews of that item by these users."
   ]
  },
  {
   "cell_type": "code",
   "execution_count": 17,
   "metadata": {
    "collapsed": true
   },
   "outputs": [],
   "source": [
    "def get_item_reviews(item_id, df, set_of_users):\n",
    "    mask = (df['user_id'].isin(set_of_users)) & (df['business_id']==item_id)\n",
    "    reviews = df[mask]\n",
    "    reviews = reviews[reviews.user_id.duplicated()==False]\n",
    "    return reviews"
   ]
  },
  {
   "cell_type": "markdown",
   "metadata": {},
   "source": [
    "**Test**"
   ]
  },
  {
   "cell_type": "code",
   "execution_count": 21,
   "metadata": {
    "collapsed": false
   },
   "outputs": [
    {
     "name": "stdout",
     "output_type": "stream",
     "text": [
      "                      user_id             business_id               review_id  \\\n",
      "80486  XBHJCDzNh--mBhJkzyM_iA  h6jfMpTZpNduLG0wE2tbaw  luPPybgUbV9zmFSHxRuv_Q   \n",
      "\n",
      "       user_avg  business_avg  stars  \n",
      "80486       3.8      4.042781      2  \n"
     ]
    }
   ],
   "source": [
    "print(get_item_reviews('h6jfMpTZpNduLG0wE2tbaw', traindf, ['XBHJCDzNh--mBhJkzyM_iA']))"
   ]
  },
  {
   "cell_type": "markdown",
   "metadata": {},
   "source": [
    "### Common user support\n",
    "\n",
    "For a pair of items, the number of users who have reviewd both.\n",
    "\n",
    "This will be used to modify similarity between items.\n",
    "\n",
    "**If the common user support is low, the similarity is less believable.**"
   ]
  },
  {
   "cell_type": "code",
   "execution_count": 22,
   "metadata": {
    "collapsed": true
   },
   "outputs": [],
   "source": [
    "def common_users(item0, item1, df):\n",
    "    item0_users = df[df['business_id'] == item0]['user_id'].unique()\n",
    "    item1_users = df[df['business_id'] == item1]['user_id'].unique()\n",
    "    common_users = set(item0_users).intersection(set(item1_users))\n",
    "    n_common = len(common_users)\n",
    "    return (common_users, n_common)"
   ]
  },
  {
   "cell_type": "markdown",
   "metadata": {},
   "source": [
    "**Test**"
   ]
  },
  {
   "cell_type": "code",
   "execution_count": 44,
   "metadata": {
    "collapsed": false,
    "scrolled": true
   },
   "outputs": [
    {
     "name": "stdout",
     "output_type": "stream",
     "text": [
      "({'n9Zg0jlOGtxfIrvoPm6Hhw', '3Jw-rYwJEz6jSqPgVVmmhA', 'Ovpa3S8xD96dLE5eDxcxJg', 'Cp-PV8rsypbO-xBrQ6KmQg', 'bX5mIrDlyD8ZabvF_An7FA'}, 5)\n"
     ]
    }
   ],
   "source": [
    "#print(common_users('cp39VURFby4A6u9m2It8jg', 'h6jfMpTZpNduLG0wE2tbaw', traindf))\n",
    "print(common_users(\"z3yFuLVrmH-3RJruPEMYKw\", \"zruUQvFySeXyEd7_rQixBg\", traindf))"
   ]
  },
  {
   "cell_type": "markdown",
   "metadata": {},
   "source": [
    "### Item-to-item Similarity\n",
    "\n",
    "Use **Pearson correlation** coefficient to calculate the similarity.\n",
    "\n",
    "To compute the item-to-item similarity, don't compare the items' whole reviews, but **just compare the reviews of both items by common users**."
   ]
  },
  {
   "cell_type": "code",
   "execution_count": 30,
   "metadata": {
    "collapsed": true
   },
   "outputs": [],
   "source": [
    "def calculate_similarity(item0, item1, df):\n",
    "    co_users = common_users(item0, item1, df)[0]\n",
    "    n_common = common_users(item0, item1, df)[1]\n",
    "    # Pick out the reviews by common users\n",
    "    item0_reviews = get_item_reviews(item0, df, co_users)\n",
    "    item1_reviews = get_item_reviews(item1, df, co_users)\n",
    "    sim = pearsonr(item0_reviews['stars']-item0_reviews['user_avg'], item1_reviews['stars']-item1_reviews['user_avg'])[0]\n",
    "    if np.isnan(sim):\n",
    "        return 0\n",
    "    else:\n",
    "        return sim "
   ]
  },
  {
   "cell_type": "markdown",
   "metadata": {},
   "source": [
    "**Test**"
   ]
  },
  {
   "cell_type": "code",
   "execution_count": 31,
   "metadata": {
    "collapsed": false
   },
   "outputs": [
    {
     "name": "stdout",
     "output_type": "stream",
     "text": [
      "0\n"
     ]
    }
   ],
   "source": [
    "print(calculate_similarity('cp39VURFby4A6u9m2It8jg', 'h6jfMpTZpNduLG0wE2tbaw', traindf))"
   ]
  },
  {
   "cell_type": "markdown",
   "metadata": {},
   "source": [
    "### Create the item-to-item Similarity Database"
   ]
  },
  {
   "cell_type": "markdown",
   "metadata": {},
   "source": [
    "### Database in python class "
   ]
  },
  {
   "cell_type": "code",
   "execution_count": 48,
   "metadata": {
    "collapsed": false
   },
   "outputs": [],
   "source": [
    "class Database:\n",
    "    \"A class representing a database of similaries and common supports\"\n",
    "    \n",
    "    def __init__(self, df):\n",
    "        database={}\n",
    "        self.df=df\n",
    "        self.uniquebizids={v:k for (k,v) in enumerate(df['business_id'].unique())}\n",
    "        keys=self.uniquebizids.keys()\n",
    "        l_keys=len(keys)\n",
    "        self.database_sim=np.zeros([l_keys,l_keys])\n",
    "        self.database_sup=np.zeros([l_keys, l_keys], dtype=np.int)\n",
    "        \n",
    "    def populate_by_calculating(self):\n",
    "        \"\"\"\n",
    "        a populator for every pair of businesses in df. takes similarity_func like\n",
    "        pearson_sim as argument\n",
    "        \"\"\"\n",
    "        items=self.uniquebizids.items()\n",
    "        for b1, i1 in items:\n",
    "            for b2, i2 in items:\n",
    "                if i1 < i2:\n",
    "                    sim=calculate_similarity(b1, b2, self.df)\n",
    "                    nsup=common_users(b1, b2, self.df)[1]\n",
    "                    self.database_sim[i1][i2]=sim\n",
    "                    self.database_sim[i2][i1]=sim\n",
    "                    self.database_sup[i1][i2]=nsup\n",
    "                    self.database_sup[i2][i1]=nsup\n",
    "                elif i1==i2:\n",
    "                    nsup=self.df[self.df.business_id==b1].user_id.count()\n",
    "                    self.database_sim[i1][i1]=1.\n",
    "                    self.database_sup[i1][i1]=nsup\n",
    "                    \n",
    "\n",
    "    def get(self, b1, b2):\n",
    "        \"returns a tuple of similarity,common_support given two business ids\"\n",
    "        sim=self.database_sim[self.uniquebizids[b1]][self.uniquebizids[b2]]\n",
    "        nsup=self.database_sup[self.uniquebizids[b1]][self.uniquebizids[b2]]\n",
    "        return (sim, nsup)"
   ]
  },
  {
   "cell_type": "markdown",
   "metadata": {},
   "source": [
    "**Test**"
   ]
  },
  {
   "cell_type": "code",
   "execution_count": 49,
   "metadata": {
    "collapsed": false
   },
   "outputs": [
    {
     "name": "stderr",
     "output_type": "stream",
     "text": [
      "C:\\Users\\Wenyi Xu\\Anaconda3\\lib\\site-packages\\numpy\\core\\_methods.py:59: RuntimeWarning: Mean of empty slice.\n",
      "  warnings.warn(\"Mean of empty slice.\", RuntimeWarning)\n"
     ]
    }
   ],
   "source": [
    "db=Database(traindf)\n",
    "db.populate_by_calculating()"
   ]
  },
  {
   "cell_type": "code",
   "execution_count": 50,
   "metadata": {
    "collapsed": false
   },
   "outputs": [
    {
     "data": {
      "text/plain": [
       "(0.35798500335648437, 5)"
      ]
     },
     "execution_count": 50,
     "metadata": {},
     "output_type": "execute_result"
    }
   ],
   "source": [
    "db.get(\"z3yFuLVrmH-3RJruPEMYKw\", \"zruUQvFySeXyEd7_rQixBg\")"
   ]
  },
  {
   "cell_type": "markdown",
   "metadata": {},
   "source": [
    "### Database in sqlite"
   ]
  },
  {
   "cell_type": "code",
   "execution_count": 2,
   "metadata": {
    "collapsed": true
   },
   "outputs": [],
   "source": [
    "conn = sqlite3.connect('similarity.db')\n",
    "c = conn.cursor()"
   ]
  },
  {
   "cell_type": "code",
   "execution_count": 9,
   "metadata": {
    "collapsed": true
   },
   "outputs": [],
   "source": [
    "def create_table():\n",
    "    c.execute('CREATE TABLE IF NOT EXISTS item2item(i REAL)')"
   ]
  },
  {
   "cell_type": "code",
   "execution_count": 7,
   "metadata": {
    "collapsed": true
   },
   "outputs": [],
   "source": [
    "def data_entry():\n",
    "    c.execute('INSERT INTO item2item (col0, col1, col2, ...) VALUES(?, ?, ?, ...)',\n",
    "             (var0, var1, var2, ...))\n",
    "    conn.commit()\n",
    "    c.close()\n",
    "    conn.close()"
   ]
  },
  {
   "cell_type": "code",
   "execution_count": 10,
   "metadata": {
    "collapsed": false
   },
   "outputs": [],
   "source": [
    "create_table()\n",
    "data_entry()"
   ]
  }
 ],
 "metadata": {
  "kernelspec": {
   "display_name": "Python 3",
   "language": "python",
   "name": "python3"
  },
  "language_info": {
   "codemirror_mode": {
    "name": "ipython",
    "version": 3
   },
   "file_extension": ".py",
   "mimetype": "text/x-python",
   "name": "python",
   "nbconvert_exporter": "python",
   "pygments_lexer": "ipython3",
   "version": "3.5.1"
  }
 },
 "nbformat": 4,
 "nbformat_minor": 0
}
