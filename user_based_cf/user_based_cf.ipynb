{
 "cells": [
  {
   "cell_type": "markdown",
   "metadata": {},
   "source": [
    "# Recommendation System\n",
    "\n",
    "## User-Based Collaborative Filtering\n",
    "\n",
    "## Notebook by [WenyiXu](https://github.com/xuwenyihust)"
   ]
  },
  {
   "cell_type": "markdown",
   "metadata": {},
   "source": [
    "### Loading the data"
   ]
  },
  {
   "cell_type": "code",
   "execution_count": 3,
   "metadata": {
    "collapsed": false
   },
   "outputs": [
    {
     "name": "stdout",
     "output_type": "stream",
     "text": [
      "     Id   ProductId          UserId                      ProfileName  \\\n",
      "0   1.0  B001E4KFG0  A3SGXH7AUHU8GW                       delmartian   \n",
      "1   2.0  B00813GRG4  A1D87F6ZCVE5NK                           dll pa   \n",
      "2   3.0  B000LQOCH0   ABXLMWJIXXAIN  Natalia Corres \"Natalia Corres\"   \n",
      "3   4.0  B000UA0QIQ  A395BORC6FGVXV                             Karl   \n",
      "4   5.0  B006K2ZZ7K  A1UQRSCLF8GW1T    Michael D. Bigham \"M. Wassir\"   \n",
      "5   6.0  B006K2ZZ7K   ADT0SRK1MGOEU                   Twoapennything   \n",
      "6   7.0  B006K2ZZ7K  A1SP2KVKFXXRU1                David C. Sullivan   \n",
      "7   8.0  B006K2ZZ7K  A3JRGQVEQN31IQ               Pamela G. Williams   \n",
      "8   9.0  B000E7L2R4  A1MZYO9TZK0BBI                         R. James   \n",
      "9  10.0  B00171APVA  A21BT40VZCCYT4                    Carol A. Reed   \n",
      "\n",
      "   HelpfulnessNumerator  HelpfulnessDenominator  Score          Time  \\\n",
      "0                   1.0                     1.0    5.0  1.303862e+09   \n",
      "1                   0.0                     0.0    1.0  1.346976e+09   \n",
      "2                   1.0                     1.0    4.0  1.219018e+09   \n",
      "3                   3.0                     3.0    2.0  1.307923e+09   \n",
      "4                   0.0                     0.0    5.0  1.350778e+09   \n",
      "5                   0.0                     0.0    4.0  1.342051e+09   \n",
      "6                   0.0                     0.0    5.0  1.340150e+09   \n",
      "7                   0.0                     0.0    5.0  1.336003e+09   \n",
      "8                   1.0                     1.0    5.0  1.322006e+09   \n",
      "9                   0.0                     0.0    5.0  1.351210e+09   \n",
      "\n",
      "                                         Summary  \\\n",
      "0                          Good Quality Dog Food   \n",
      "1                              Not as Advertised   \n",
      "2                          \"Delight\" says it all   \n",
      "3                                 Cough Medicine   \n",
      "4                                    Great taffy   \n",
      "5                                     Nice Taffy   \n",
      "6  Great!  Just as good as the expensive brands!   \n",
      "7                         Wonderful, tasty taffy   \n",
      "8                                     Yay Barley   \n",
      "9                               Healthy Dog Food   \n",
      "\n",
      "                                                Text  \n",
      "0  I have bought several of the Vitality canned d...  \n",
      "1  Product arrived labeled as Jumbo Salted Peanut...  \n",
      "2  This is a confection that has been around a fe...  \n",
      "3  If you are looking for the secret ingredient i...  \n",
      "4  Great taffy at a great price.  There was a wid...  \n",
      "5  I got a wild hair for taffy and ordered this f...  \n",
      "6  This saltwater taffy had great flavors and was...  \n",
      "7  This taffy is so good.  It is very soft and ch...  \n",
      "8  Right now I'm mostly just sprouting this so my...  \n",
      "9  This is a very healthy dog food. Good for thei...  \n"
     ]
    },
    {
     "name": "stderr",
     "output_type": "stream",
     "text": [
      "C:\\Users\\Wenyi Xu\\Anaconda3\\lib\\site-packages\\IPython\\core\\interactiveshell.py:2723: DtypeWarning: Columns (1,2,3,8,9) have mixed types. Specify dtype option on import or set low_memory=False.\n",
      "  interactivity=interactivity, compiler=compiler, result=result)\n"
     ]
    }
   ],
   "source": [
    "%matplotlib inline\n",
    "\n",
    "import pandas as pd\n",
    "import numpy as np\n",
    "import matplotlib.pyplot as plt\n",
    "import numpy as np\n",
    "\n",
    "fulldf=pd.read_csv(\"https://raw.githubusercontent.com/xuwenyihust/Recommendation-Systems/master/data/amazon-fine-foods.csv\")\n",
    "print(fulldf.head(10))"
   ]
  },
  {
   "cell_type": "markdown",
   "metadata": {},
   "source": [
    "### Reduce sparsity\n",
    "\n",
    "Reduce the sparsity of the dataset."
   ]
  },
  {
   "cell_type": "code",
   "execution_count": null,
   "metadata": {
    "collapsed": true
   },
   "outputs": [],
   "source": [
    "smalldf = fulldf"
   ]
  }
 ],
 "metadata": {
  "kernelspec": {
   "display_name": "Python 3",
   "language": "python",
   "name": "python3"
  },
  "language_info": {
   "codemirror_mode": {
    "name": "ipython",
    "version": 3
   },
   "file_extension": ".py",
   "mimetype": "text/x-python",
   "name": "python",
   "nbconvert_exporter": "python",
   "pygments_lexer": "ipython3",
   "version": "3.5.1"
  }
 },
 "nbformat": 4,
 "nbformat_minor": 0
}
