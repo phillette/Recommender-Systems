{
 "cells": [
  {
   "cell_type": "markdown",
   "metadata": {},
   "source": [
    "# Recommendation System\n",
    "\n",
    "## User-Based Collaborative Filtering\n",
    "\n",
    "## Notebook by [WenyiXu](https://github.com/xuwenyihust)"
   ]
  },
  {
   "cell_type": "markdown",
   "metadata": {},
   "source": [
    "### Loading the data"
   ]
  },
  {
   "cell_type": "code",
   "execution_count": 1,
   "metadata": {
    "collapsed": false
   },
   "outputs": [
    {
     "name": "stderr",
     "output_type": "stream",
     "text": [
      "C:\\Users\\Wenyi Xu\\Anaconda3\\lib\\site-packages\\IPython\\core\\interactiveshell.py:2723: DtypeWarning: Columns (1,2,3,8,9) have mixed types. Specify dtype option on import or set low_memory=False.\n",
      "  interactivity=interactivity, compiler=compiler, result=result)\n"
     ]
    }
   ],
   "source": [
    "%matplotlib inline\n",
    "\n",
    "import pandas as pd\n",
    "import numpy as np\n",
    "import matplotlib.pyplot as plt\n",
    "import numpy as np\n",
    "from scipy.stats.stats import pearsonr\n",
    "\n",
    "from sklearn import cross_validation\n",
    "\n",
    "fulldf=pd.read_csv(\"https://raw.githubusercontent.com/xuwenyihust/Recommendation-Systems/master/data/amazon-fine-foods.csv\")\n",
    "fulldf = fulldf[:20000]"
   ]
  },
  {
   "cell_type": "code",
   "execution_count": 2,
   "metadata": {
    "collapsed": false
   },
   "outputs": [
    {
     "name": "stdout",
     "output_type": "stream",
     "text": [
      "    Id   ProductId          UserId                      ProfileName  \\\n",
      "0  1.0  B001E4KFG0  A3SGXH7AUHU8GW                       delmartian   \n",
      "1  2.0  B00813GRG4  A1D87F6ZCVE5NK                           dll pa   \n",
      "2  3.0  B000LQOCH0   ABXLMWJIXXAIN  Natalia Corres \"Natalia Corres\"   \n",
      "3  4.0  B000UA0QIQ  A395BORC6FGVXV                             Karl   \n",
      "4  5.0  B006K2ZZ7K  A1UQRSCLF8GW1T    Michael D. Bigham \"M. Wassir\"   \n",
      "\n",
      "   HelpfulnessNumerator  HelpfulnessDenominator  Score          Time  \\\n",
      "0                   1.0                     1.0    5.0  1.303862e+09   \n",
      "1                   0.0                     0.0    1.0  1.346976e+09   \n",
      "2                   1.0                     1.0    4.0  1.219018e+09   \n",
      "3                   3.0                     3.0    2.0  1.307923e+09   \n",
      "4                   0.0                     0.0    5.0  1.350778e+09   \n",
      "\n",
      "                 Summary                                               Text  \n",
      "0  Good Quality Dog Food  I have bought several of the Vitality canned d...  \n",
      "1      Not as Advertised  Product arrived labeled as Jumbo Salted Peanut...  \n",
      "2  \"Delight\" says it all  This is a confection that has been around a fe...  \n",
      "3         Cough Medicine  If you are looking for the secret ingredient i...  \n",
      "4            Great taffy  Great taffy at a great price.  There was a wid...  \n",
      "(20000, 10)\n"
     ]
    }
   ],
   "source": [
    "print(fulldf.head(5))\n",
    "print(fulldf.shape)"
   ]
  },
  {
   "cell_type": "markdown",
   "metadata": {},
   "source": [
    "### Brief Exploratory analysis"
   ]
  },
  {
   "cell_type": "code",
   "execution_count": 34,
   "metadata": {
    "collapsed": false
   },
   "outputs": [
    {
     "name": "stdout",
     "output_type": "stream",
     "text": [
      "(20000, 10)\n",
      "(17677,)\n",
      "(2657,)\n"
     ]
    }
   ],
   "source": [
    "print(fulldf.shape)\n",
    "print(fulldf['UserId'].unique().shape)\n",
    "print(fulldf['ProductId'].unique().shape)"
   ]
  },
  {
   "cell_type": "markdown",
   "metadata": {},
   "source": [
    "We can see that the number of unique users are much larger than the number of unique items."
   ]
  },
  {
   "cell_type": "code",
   "execution_count": 35,
   "metadata": {
    "collapsed": false
   },
   "outputs": [
    {
     "data": {
      "image/png": "[encoded data removed]",
      "text/plain": [
       "<matplotlib.figure.Figure at 0x22480bd5080>"
      ]
     },
     "metadata": {},
     "output_type": "display_data"
    },
    {
     "data": {
      "image/png": "[encoded data removed]",
      "text/plain": [
       "<matplotlib.figure.Figure at 0x22480bd50b8>"
      ]
     },
     "metadata": {},
     "output_type": "display_data"
    }
   ],
   "source": [
    "plt.figure()\n",
    "ax=fulldf.groupby('UserId')['ProductId'].count().hist()\n",
    "plt.xlabel(\"Reviews per user\")\n",
    "plt.grid(False)\n",
    "plt.grid(axis = 'y', color ='white', linestyle='-')\n",
    "\n",
    "plt.figure()\n",
    "ax=fulldf.groupby('ProductId')['UserId'].count().hist()\n",
    "plt.xlabel(\"Reviews per item\")\n",
    "plt.grid(False)\n",
    "plt.grid(axis = 'y', color ='white', linestyle='-')"
   ]
  },
  {
   "cell_type": "markdown",
   "metadata": {},
   "source": [
    "The plots show that most users reviewed on less than 4 item. And most items have less than 50 reviews.\n",
    "\n",
    "In this case, there will be very small number of co-rated items or even no such one between 2 users.\n",
    "\n",
    "This may lead to a bad result."
   ]
  },
  {
   "cell_type": "markdown",
   "metadata": {},
   "source": [
    "### Reduce Sparsity\n",
    "\n",
    "Reduce the sparsity of the data set, construct a new smalldf."
   ]
  },
  {
   "cell_type": "code",
   "execution_count": null,
   "metadata": {
    "collapsed": true
   },
   "outputs": [],
   "source": []
  },
  {
   "cell_type": "markdown",
   "metadata": {},
   "source": [
    "### Train/Test Split\n",
    "\n",
    "Split the train & test dataset, use the train subset to train the model, and validate the model using test subset."
   ]
  },
  {
   "cell_type": "code",
   "execution_count": null,
   "metadata": {
    "collapsed": true
   },
   "outputs": [],
   "source": [
    "X = smalldf[['Id', 'ProductId', 'UserId']]\n",
    "y = smalldf[['Score']]\n",
    "\n",
    "X_train, X_test, y_train, y_test = cross_validation.train_test_split(X, y, test_size=0.2, random_state=42)\n",
    "\n",
    "print(X_train.shape, y_train.shape)\n",
    "print(X_test.shape, y_test.shape)\n",
    "\n",
    "print(X_train.head(5))\n",
    "print(X_test.head(5))"
   ]
  },
  {
   "cell_type": "markdown",
   "metadata": {},
   "source": [
    "### User-item matrix construction\n",
    "\n",
    "Transform the original table into a user-item matrix"
   ]
  },
  {
   "cell_type": "code",
   "execution_count": 33,
   "metadata": {
    "collapsed": false
   },
   "outputs": [
    {
     "name": "stdout",
     "output_type": "stream",
     "text": [
      "          Id   ProductId          UserId  Score\n",
      "5894  5895.0  B003KLSZGW  A1DXTSHQEVQJTR    5.0\n",
      "3728  3729.0  B004SFNFEG  A3SIZC600PA0AW    5.0\n",
      "8958  8959.0  B0007A0AP8  A1OI15XSWJ8FFX    5.0\n",
      "7671  7672.0  B001E5DZTS  A1JY70V80B1F78    5.0\n",
      "5999  6000.0  B003SE52K8   AJNSMUB2HU1M8    5.0"
     ]
    },
    {
     "name": "stderr",
     "output_type": "stream",
     "text": [
      "C:\\Users\\Wenyi Xu\\Anaconda3\\lib\\site-packages\\pandas\\core\\indexing.py:461: SettingWithCopyWarning: \n",
      "A value is trying to be set on a copy of a slice from a DataFrame.\n",
      "Try using .loc[row_indexer,col_indexer] = value instead\n",
      "\n",
      "See the caveats in the documentation: http://pandas.pydata.org/pandas-docs/stable/indexing.html#indexing-view-versus-copy\n",
      "  self.obj[item] = s\n"
     ]
    },
    {
     "name": "stdout",
     "output_type": "stream",
     "text": [
      "\n",
      "(14425, 2405)\n",
      "ProductId       B00002NCJC  B00002Z754  B00005V3DC  B000084DVR  B000084E1U  \\\n",
      "UserId                                                                       \n",
      "A1001TYW5FZYD9         NaN         NaN         NaN         NaN         NaN   \n",
      "A1003ACBU13X6E         NaN         NaN         NaN         NaN         NaN   \n",
      "A1004703RC79J9         NaN         NaN         NaN         NaN         NaN   \n",
      "A10080F3BO83XV         NaN         NaN         NaN         NaN         NaN   \n",
      "A1011I2PCI4K8B         NaN         NaN         NaN         NaN         NaN   \n",
      "\n",
      "ProductId       B000084EK4  B000084EK5  B000084EK6  B000084EK7  B000084EK8  \\\n",
      "UserId                                                                       \n",
      "A1001TYW5FZYD9         NaN         NaN         NaN         NaN         NaN   \n",
      "A1003ACBU13X6E         NaN         NaN         NaN         NaN         NaN   \n",
      "A1004703RC79J9         NaN         NaN         NaN         NaN         NaN   \n",
      "A10080F3BO83XV         NaN         NaN         NaN         NaN         NaN   \n",
      "A1011I2PCI4K8B         NaN         NaN         NaN         NaN         NaN   \n",
      "\n",
      "ProductId          ...      B0092XAMDQ  B0093NIWVO  B00959DMWK  B00961CUXO  \\\n",
      "UserId             ...                                                       \n",
      "A1001TYW5FZYD9     ...             NaN         NaN         NaN         NaN   \n",
      "A1003ACBU13X6E     ...             NaN         NaN         NaN         NaN   \n",
      "A1004703RC79J9     ...             NaN         NaN         NaN         NaN   \n",
      "A10080F3BO83XV     ...             NaN         NaN         NaN         NaN   \n",
      "A1011I2PCI4K8B     ...             NaN         NaN         NaN         NaN   \n",
      "\n",
      "ProductId       B0096E5196  B009AVDFCK  B009D668KS  B009HINRX8  B009KP6HBM  \\\n",
      "UserId                                                                       \n",
      "A1001TYW5FZYD9         NaN         NaN         NaN         NaN         NaN   \n",
      "A1003ACBU13X6E         NaN         NaN         NaN         NaN         NaN   \n",
      "A1004703RC79J9         NaN         NaN         NaN         NaN         NaN   \n",
      "A10080F3BO83XV         NaN         NaN         NaN         NaN         NaN   \n",
      "A1011I2PCI4K8B         NaN         NaN         NaN         NaN         NaN   \n",
      "\n",
      "ProductId       B009UOFU20  \n",
      "UserId                      \n",
      "A1001TYW5FZYD9         NaN  \n",
      "A1003ACBU13X6E         NaN  \n",
      "A1004703RC79J9         NaN  \n",
      "A10080F3BO83XV         NaN  \n",
      "A1011I2PCI4K8B         NaN  \n",
      "\n",
      "[5 rows x 2405 columns]\n"
     ]
    }
   ],
   "source": [
    "traindf = X_train\n",
    "traindf.loc[:,'Score'] = y_train\n",
    "print(traindf.head(5))\n",
    "matrix = traindf.pivot_table(index='UserId', columns='ProductId', values='Score')\n",
    "print(matrix.shape)\n",
    "print(matrix.head(5))"
   ]
  },
  {
   "cell_type": "markdown",
   "metadata": {},
   "source": [
    "### User-to-user similarity\n",
    "\n",
    "Define a function to compute the similarities between users.\n",
    "\n",
    "Based on Pearson correlation."
   ]
  },
  {
   "cell_type": "code",
   "execution_count": 18,
   "metadata": {
    "collapsed": true
   },
   "outputs": [],
   "source": [
    "def com_sim(reviews_user0, reviews_user1):\n",
    "    return pearsonr(reviews_user0['Score'], reviews_user1['Score'])[0] "
   ]
  },
  {
   "cell_type": "markdown",
   "metadata": {},
   "source": [
    "### Get items that a user has reviewed"
   ]
  },
  {
   "cell_type": "code",
   "execution_count": 7,
   "metadata": {
    "collapsed": true
   },
   "outputs": [],
   "source": [
    "def items_reviewed(user):\n",
    "    return traindf[traindf['UserId'] == user]['ProductId'].unique()"
   ]
  },
  {
   "cell_type": "markdown",
   "metadata": {},
   "source": [
    "### Reviews for common items"
   ]
  },
  {
   "cell_type": "code",
   "execution_count": 8,
   "metadata": {
    "collapsed": true
   },
   "outputs": [],
   "source": [
    "def common_items(user0, user1):\n",
    "    user0_items = items_reviewed(user0)\n",
    "    user1_items = items_reviewed(user1)\n",
    "    return set(user0_items).intersection(user1_items)"
   ]
  },
  {
   "cell_type": "markdown",
   "metadata": {},
   "source": [
    "### Get reviews of a given list of items rated by a given user"
   ]
  },
  {
   "cell_type": "code",
   "execution_count": 13,
   "metadata": {
    "collapsed": true
   },
   "outputs": [],
   "source": [
    "def get_user_reviews(user, set_of_items):\n",
    "    mask = (traindf['ProductId'].isin(set_of_items)) & (traindf['UserId']==user)\n",
    "    reviews = traindf[mask]\n",
    "    reviews = reviews[reviews.UserId.duplicated()==False]\n",
    "    return reviews"
   ]
  },
  {
   "cell_type": "markdown",
   "metadata": {},
   "source": [
    "### K nearest users\n",
    "\n",
    "Given an active user and an item that hasn't been rated by him/her, find the K nearest users to that active one that have rated the item."
   ]
  },
  {
   "cell_type": "code",
   "execution_count": 25,
   "metadata": {
    "collapsed": true
   },
   "outputs": [],
   "source": [
    "def k_nearest(user0, k):\n",
    "    all_users = traindf['UserId'].unique().tolist()\n",
    "    knu = []\n",
    "    for user1 in all_users:\n",
    "        if user0 != user1:\n",
    "            # Get the items that reviewed by both users\n",
    "            both_items = common_items(user0, user1)\n",
    "            # Get the sub-dataframe containing the intersected items by these 2 users\n",
    "            reviews_user0 = get_user_reviews(user0, both_items)\n",
    "            reviews_user1 = get_user_reviews(user1, both_items)\n",
    "            if len(both_items) == 0:\n",
    "                sim = 0\n",
    "            else:\n",
    "                sim = com_sim(reviews_user0, reviews_user1)\n",
    "            if len(knu) < k:\n",
    "                knu.append([user1, sim])\n",
    "                knu = sorted(knu, key=lambda similarity: similarity[1], reverse=True)\n",
    "            else:\n",
    "                if sim > knu[-1][1]:\n",
    "                    knu[-1] = [user1, sim]\n",
    "                    knu = sorted(knu, key=lambda similarity: similarity[1], reverse=True)\n",
    "    return knu"
   ]
  },
  {
   "cell_type": "markdown",
   "metadata": {},
   "source": [
    "### K nearest users test\n",
    "\n",
    "Test the K nearest users function"
   ]
  },
  {
   "cell_type": "code",
   "execution_count": 32,
   "metadata": {
    "collapsed": false
   },
   "outputs": [
    {
     "name": "stdout",
     "output_type": "stream",
     "text": [
      "[['A1DXTSHQEVQJTR', 0]]\n",
      "[['A1DXTSHQEVQJTR', 0]]\n",
      "[['A1DXTSHQEVQJTR', 0]]\n"
     ]
    }
   ],
   "source": [
    "print(k_nearest('A1004703RC79J9', 1))\n",
    "print(k_nearest('A1001TYW5FZYD9', 1))\n",
    "print(k_nearest('A10080F3BO83XV', 1))"
   ]
  }
 ],
 "metadata": {
  "kernelspec": {
   "display_name": "Python 3",
   "language": "python",
   "name": "python3"
  },
  "language_info": {
   "codemirror_mode": {
    "name": "ipython",
    "version": 3
   },
   "file_extension": ".py",
   "mimetype": "text/x-python",
   "name": "python",
   "nbconvert_exporter": "python",
   "pygments_lexer": "ipython3",
   "version": "3.5.1"
  }
 },
 "nbformat": 4,
 "nbformat_minor": 0
}
