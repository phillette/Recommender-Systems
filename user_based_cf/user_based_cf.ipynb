{
 "cells": [
  {
   "cell_type": "markdown",
   "metadata": {},
   "source": [
    "# Recommendation System\n",
    "\n",
    "## User-Based Collaborative Filtering\n",
    "\n",
    "## Notebook by [WenyiXu](https://github.com/xuwenyihust)"
   ]
  },
  {
   "cell_type": "markdown",
   "metadata": {},
   "source": [
    "### Loading the data"
   ]
  },
  {
   "cell_type": "code",
   "execution_count": 26,
   "metadata": {
    "collapsed": false
   },
   "outputs": [
    {
     "name": "stderr",
     "output_type": "stream",
     "text": [
      "C:\\Users\\Wenyi Xu\\Anaconda3\\lib\\site-packages\\IPython\\core\\interactiveshell.py:2723: DtypeWarning: Columns (1,2,3,8,9) have mixed types. Specify dtype option on import or set low_memory=False.\n",
      "  interactivity=interactivity, compiler=compiler, result=result)\n"
     ]
    }
   ],
   "source": [
    "%matplotlib inline\n",
    "\n",
    "import pandas as pd\n",
    "import numpy as np\n",
    "import matplotlib.pyplot as plt\n",
    "import numpy as np\n",
    "from scipy.stats.stats import pearsonr\n",
    "\n",
    "from sklearn import cross_validation\n",
    "\n",
    "fulldf=pd.read_csv(\"https://raw.githubusercontent.com/xuwenyihust/Recommendation-Systems/master/data/amazon-fine-foods.csv\")\n",
    "fulldf = fulldf[:20000]"
   ]
  },
  {
   "cell_type": "code",
   "execution_count": 27,
   "metadata": {
    "collapsed": false
   },
   "outputs": [
    {
     "name": "stdout",
     "output_type": "stream",
     "text": [
      "    Id   ProductId          UserId                      ProfileName  \\\n",
      "0  1.0  B001E4KFG0  A3SGXH7AUHU8GW                       delmartian   \n",
      "1  2.0  B00813GRG4  A1D87F6ZCVE5NK                           dll pa   \n",
      "2  3.0  B000LQOCH0   ABXLMWJIXXAIN  Natalia Corres \"Natalia Corres\"   \n",
      "3  4.0  B000UA0QIQ  A395BORC6FGVXV                             Karl   \n",
      "4  5.0  B006K2ZZ7K  A1UQRSCLF8GW1T    Michael D. Bigham \"M. Wassir\"   \n",
      "\n",
      "   HelpfulnessNumerator  HelpfulnessDenominator  Score          Time  \\\n",
      "0                   1.0                     1.0    5.0  1.303862e+09   \n",
      "1                   0.0                     0.0    1.0  1.346976e+09   \n",
      "2                   1.0                     1.0    4.0  1.219018e+09   \n",
      "3                   3.0                     3.0    2.0  1.307923e+09   \n",
      "4                   0.0                     0.0    5.0  1.350778e+09   \n",
      "\n",
      "                 Summary                                               Text  \n",
      "0  Good Quality Dog Food  I have bought several of the Vitality canned d...  \n",
      "1      Not as Advertised  Product arrived labeled as Jumbo Salted Peanut...  \n",
      "2  \"Delight\" says it all  This is a confection that has been around a fe...  \n",
      "3         Cough Medicine  If you are looking for the secret ingredient i...  \n",
      "4            Great taffy  Great taffy at a great price.  There was a wid...  \n",
      "(20000, 10)\n"
     ]
    }
   ],
   "source": [
    "print(fulldf.head(5))\n",
    "print(fulldf.shape)"
   ]
  },
  {
   "cell_type": "markdown",
   "metadata": {},
   "source": [
    "### Train/Test Split\n",
    "\n",
    "Split the train & test dataset, use the train subset to train the model, and validate the model using test subset."
   ]
  },
  {
   "cell_type": "code",
   "execution_count": 28,
   "metadata": {
    "collapsed": false
   },
   "outputs": [
    {
     "name": "stdout",
     "output_type": "stream",
     "text": [
      "(16000, 3) (16000, 1)\n",
      "(4000, 3) (4000, 1)\n",
      "          Id   ProductId          UserId\n",
      "5894  5895.0  B003KLSZGW  A1DXTSHQEVQJTR\n",
      "3728  3729.0  B004SFNFEG  A3SIZC600PA0AW\n",
      "8958  8959.0  B0007A0AP8  A1OI15XSWJ8FFX\n",
      "7671  7672.0  B001E5DZTS  A1JY70V80B1F78\n",
      "5999  6000.0  B003SE52K8   AJNSMUB2HU1M8\n",
      "            Id   ProductId          UserId\n",
      "10650  10651.0  B001KVNDM0  A3C56IXBT4ETXA\n",
      "2041    2042.0  B001E5E29A   AQMBGG9S7964D\n",
      "8668    8669.0  B003VXFK44  A3SFS8R1T6JJM9\n",
      "1114    1115.0  B003UDV9SG  A2W09PJ1TTHQ6H\n",
      "13902  13903.0  B002KE92UI  A2QCBK7UKFTEOC\n"
     ]
    }
   ],
   "source": [
    "X = fulldf[['Id', 'ProductId', 'UserId']]\n",
    "y = fulldf[['Score']]\n",
    "\n",
    "X_train, X_test, y_train, y_test = cross_validation.train_test_split(X, y, test_size=0.2, random_state=42)\n",
    "\n",
    "print(X_train.shape, y_train.shape)\n",
    "print(X_test.shape, y_test.shape)\n",
    "\n",
    "print(X_train.head(5))\n",
    "print(X_test.head(5))"
   ]
  },
  {
   "cell_type": "markdown",
   "metadata": {},
   "source": [
    "### User-item matrix construction\n",
    "\n",
    "Transform the original table into a user-item matrix"
   ]
  },
  {
   "cell_type": "code",
   "execution_count": 29,
   "metadata": {
    "collapsed": false
   },
   "outputs": [
    {
     "name": "stderr",
     "output_type": "stream",
     "text": [
      "C:\\Users\\Wenyi Xu\\Anaconda3\\lib\\site-packages\\pandas\\core\\indexing.py:284: SettingWithCopyWarning: \n",
      "A value is trying to be set on a copy of a slice from a DataFrame.\n",
      "Try using .loc[row_indexer,col_indexer] = value instead\n",
      "\n",
      "See the caveats in the documentation: http://pandas.pydata.org/pandas-docs/stable/indexing.html#indexing-view-versus-copy\n",
      "  self.obj[key] = _infer_fill_value(value)\n",
      "C:\\Users\\Wenyi Xu\\Anaconda3\\lib\\site-packages\\pandas\\core\\indexing.py:461: SettingWithCopyWarning: \n",
      "A value is trying to be set on a copy of a slice from a DataFrame.\n",
      "Try using .loc[row_indexer,col_indexer] = value instead\n",
      "\n",
      "See the caveats in the documentation: http://pandas.pydata.org/pandas-docs/stable/indexing.html#indexing-view-versus-copy\n",
      "  self.obj[item] = s\n"
     ]
    },
    {
     "name": "stdout",
     "output_type": "stream",
     "text": [
      "          Id   ProductId          UserId  Score\n",
      "5894  5895.0  B003KLSZGW  A1DXTSHQEVQJTR    5.0\n",
      "3728  3729.0  B004SFNFEG  A3SIZC600PA0AW    5.0\n",
      "8958  8959.0  B0007A0AP8  A1OI15XSWJ8FFX    5.0\n",
      "7671  7672.0  B001E5DZTS  A1JY70V80B1F78    5.0\n",
      "5999  6000.0  B003SE52K8   AJNSMUB2HU1M8    5.0\n",
      "(14425, 2405)\n",
      "ProductId       B00002NCJC  B00002Z754  B00005V3DC  B000084DVR  B000084E1U  \\\n",
      "UserId                                                                       \n",
      "A1001TYW5FZYD9         NaN         NaN         NaN         NaN         NaN   \n",
      "A1003ACBU13X6E         NaN         NaN         NaN         NaN         NaN   \n",
      "A1004703RC79J9         NaN         NaN         NaN         NaN         NaN   \n",
      "A10080F3BO83XV         NaN         NaN         NaN         NaN         NaN   \n",
      "A1011I2PCI4K8B         NaN         NaN         NaN         NaN         NaN   \n",
      "\n",
      "ProductId       B000084EK4  B000084EK5  B000084EK6  B000084EK7  B000084EK8  \\\n",
      "UserId                                                                       \n",
      "A1001TYW5FZYD9         NaN         NaN         NaN         NaN         NaN   \n",
      "A1003ACBU13X6E         NaN         NaN         NaN         NaN         NaN   \n",
      "A1004703RC79J9         NaN         NaN         NaN         NaN         NaN   \n",
      "A10080F3BO83XV         NaN         NaN         NaN         NaN         NaN   \n",
      "A1011I2PCI4K8B         NaN         NaN         NaN         NaN         NaN   \n",
      "\n",
      "ProductId          ...      B0092XAMDQ  B0093NIWVO  B00959DMWK  B00961CUXO  \\\n",
      "UserId             ...                                                       \n",
      "A1001TYW5FZYD9     ...             NaN         NaN         NaN         NaN   \n",
      "A1003ACBU13X6E     ...             NaN         NaN         NaN         NaN   \n",
      "A1004703RC79J9     ...             NaN         NaN         NaN         NaN   \n",
      "A10080F3BO83XV     ...             NaN         NaN         NaN         NaN   \n",
      "A1011I2PCI4K8B     ...             NaN         NaN         NaN         NaN   \n",
      "\n",
      "ProductId       B0096E5196  B009AVDFCK  B009D668KS  B009HINRX8  B009KP6HBM  \\\n",
      "UserId                                                                       \n",
      "A1001TYW5FZYD9         NaN         NaN         NaN         NaN         NaN   \n",
      "A1003ACBU13X6E         NaN         NaN         NaN         NaN         NaN   \n",
      "A1004703RC79J9         NaN         NaN         NaN         NaN         NaN   \n",
      "A10080F3BO83XV         NaN         NaN         NaN         NaN         NaN   \n",
      "A1011I2PCI4K8B         NaN         NaN         NaN         NaN         NaN   \n",
      "\n",
      "ProductId       B009UOFU20  \n",
      "UserId                      \n",
      "A1001TYW5FZYD9         NaN  \n",
      "A1003ACBU13X6E         NaN  \n",
      "A1004703RC79J9         NaN  \n",
      "A10080F3BO83XV         NaN  \n",
      "A1011I2PCI4K8B         NaN  \n",
      "\n",
      "[5 rows x 2405 columns]\n"
     ]
    }
   ],
   "source": [
    "traindf = X_train\n",
    "traindf.loc[:,'Score'] = y_train\n",
    "print(traindf.head(5))\n",
    "matrix = traindf.pivot_table(index='UserId', columns='ProductId', values='Score')\n",
    "print(matrix.shape)\n",
    "print(matrix.head(5))"
   ]
  },
  {
   "cell_type": "markdown",
   "metadata": {},
   "source": [
    "### Brief Exploratory analysis"
   ]
  },
  {
   "cell_type": "code",
   "execution_count": 30,
   "metadata": {
    "collapsed": false
   },
   "outputs": [],
   "source": [
    "#item_review_counts = [0 for x in range(matrix.shape[0])]\n",
    "#user_review_count = [0 for x in range(matrix.shape[1])]\n"
   ]
  },
  {
   "cell_type": "markdown",
   "metadata": {},
   "source": [
    "### User-to-user similarity\n",
    "\n",
    "Define a function to compute the similarities between users.\n",
    "\n",
    "Based on Pearson correlation."
   ]
  },
  {
   "cell_type": "code",
   "execution_count": 38,
   "metadata": {
    "collapsed": true
   },
   "outputs": [],
   "source": [
    "def com_sim(user0_reviews, user1_reviews):\n",
    "    return pearsonr(user0_reviews, user1_reviews)[0] "
   ]
  },
  {
   "cell_type": "markdown",
   "metadata": {},
   "source": [
    "### Get items that a user has reviewed"
   ]
  },
  {
   "cell_type": "code",
   "execution_count": 40,
   "metadata": {
    "collapsed": true
   },
   "outputs": [],
   "source": [
    "def items_reviewed(user):\n",
    "    return traindf[traindf['UserId'] == user]['ProductId'].unique()"
   ]
  },
  {
   "cell_type": "markdown",
   "metadata": {},
   "source": [
    "### Reviews for common items"
   ]
  },
  {
   "cell_type": "code",
   "execution_count": 68,
   "metadata": {
    "collapsed": true
   },
   "outputs": [],
   "source": [
    "def common_items(user0, user1):\n",
    "    user0_items = items_reviewed(user0)\n",
    "    user1_items = items_reviewed(user1)\n",
    "    return set(user0_items).intersection(user1_items)"
   ]
  },
  {
   "cell_type": "markdown",
   "metadata": {},
   "source": [
    "### Get reviews of a list of items rated by a given user"
   ]
  },
  {
   "cell_type": "code",
   "execution_count": 73,
   "metadata": {
    "collapsed": true
   },
   "outputs": [],
   "source": [
    "def get_reviews(user, set_of_items):\n",
    "    mask = (traindf['ProductId'].isin(set_of_items)) & (traindf['UserId']==user)\n",
    "    reviews = traindf[mask]\n",
    "    reviews = reviews[reviews.UserId.duplicated()==False]\n",
    "    return reviews"
   ]
  },
  {
   "cell_type": "markdown",
   "metadata": {},
   "source": [
    "### K nearest users\n",
    "\n",
    "Given an active user and an item that hasn't been rated by him/her, find the K nearest users to that active one that have rated the item."
   ]
  },
  {
   "cell_type": "code",
   "execution_count": 71,
   "metadata": {
    "collapsed": true
   },
   "outputs": [],
   "source": [
    "def k_nearest(user0, k):\n",
    "    all_users = fulldf['UserId'].unique().tolist()\n",
    "    knu = []\n",
    "    for user1 in all_users:\n",
    "        if user0 != user1:\n",
    "            both_items = common_items(user0, user1)\n",
    "            reviews_user0 = get_reviews(user0, both_items)\n",
    "            reviews_user1 = get_reviews(user1, both_items)\n",
    "            if len(both_items) == 0:\n",
    "                sim = 0\n",
    "            else:\n",
    "                sim = com_sim(reviews_user0, reviews_user1)\n",
    "            if len(knu) < k:\n",
    "                knu.append([user1, sim])\n",
    "                knu = sorted(knu, key=lambda similarity: similarity[1])\n",
    "            else:\n",
    "                if sim > knu[-1][1]:\n",
    "                    knu[-1] = [user1, sim]\n",
    "                    knu = sorted(knu, key=lambda similarity: similarity[1])\n",
    "    return knu"
   ]
  },
  {
   "cell_type": "markdown",
   "metadata": {},
   "source": [
    "Test the K nearest users function"
   ]
  },
  {
   "cell_type": "code",
   "execution_count": 74,
   "metadata": {
    "collapsed": false
   },
   "outputs": [
    {
     "ename": "TypeError",
     "evalue": "unsupported operand type(s) for +: 'float' and 'str'",
     "output_type": "error",
     "traceback": [
      "\u001b[1;31m---------------------------------------------------------------------------\u001b[0m",
      "\u001b[1;31mTypeError\u001b[0m                                 Traceback (most recent call last)",
      "\u001b[1;32m<ipython-input-74-d2fe6df819a5>\u001b[0m in \u001b[0;36m<module>\u001b[1;34m()\u001b[0m\n\u001b[0;32m      4\u001b[0m \u001b[1;33m\u001b[0m\u001b[0m\n\u001b[0;32m      5\u001b[0m \u001b[1;31m#print(set)\u001b[0m\u001b[1;33m\u001b[0m\u001b[1;33m\u001b[0m\u001b[0m\n\u001b[1;32m----> 6\u001b[1;33m \u001b[0mprint\u001b[0m\u001b[1;33m(\u001b[0m\u001b[0mk_nearest\u001b[0m\u001b[1;33m(\u001b[0m\u001b[1;34m'A1001TYW5FZYD9'\u001b[0m\u001b[1;33m,\u001b[0m \u001b[1;36m1\u001b[0m\u001b[1;33m)\u001b[0m\u001b[1;33m)\u001b[0m\u001b[1;33m\u001b[0m\u001b[0m\n\u001b[0m",
      "\u001b[1;32m<ipython-input-71-4dfaebaff1e7>\u001b[0m in \u001b[0;36mk_nearest\u001b[1;34m(user0, k)\u001b[0m\n\u001b[0;32m     10\u001b[0m                 \u001b[0msim\u001b[0m \u001b[1;33m=\u001b[0m \u001b[1;36m0\u001b[0m\u001b[1;33m\u001b[0m\u001b[0m\n\u001b[0;32m     11\u001b[0m             \u001b[1;32melse\u001b[0m\u001b[1;33m:\u001b[0m\u001b[1;33m\u001b[0m\u001b[0m\n\u001b[1;32m---> 12\u001b[1;33m                 \u001b[0msim\u001b[0m \u001b[1;33m=\u001b[0m \u001b[0mcom_sim\u001b[0m\u001b[1;33m(\u001b[0m\u001b[0mreviews_user0\u001b[0m\u001b[1;33m,\u001b[0m \u001b[0mreviews_user1\u001b[0m\u001b[1;33m)\u001b[0m\u001b[1;33m\u001b[0m\u001b[0m\n\u001b[0m\u001b[0;32m     13\u001b[0m             \u001b[1;32mif\u001b[0m \u001b[0mlen\u001b[0m\u001b[1;33m(\u001b[0m\u001b[0mknu\u001b[0m\u001b[1;33m)\u001b[0m \u001b[1;33m<\u001b[0m \u001b[0mk\u001b[0m\u001b[1;33m:\u001b[0m\u001b[1;33m\u001b[0m\u001b[0m\n\u001b[0;32m     14\u001b[0m                 \u001b[0mknu\u001b[0m\u001b[1;33m.\u001b[0m\u001b[0mappend\u001b[0m\u001b[1;33m(\u001b[0m\u001b[1;33m[\u001b[0m\u001b[0muser1\u001b[0m\u001b[1;33m,\u001b[0m \u001b[0msim\u001b[0m\u001b[1;33m]\u001b[0m\u001b[1;33m)\u001b[0m\u001b[1;33m\u001b[0m\u001b[0m\n",
      "\u001b[1;32m<ipython-input-38-d48958c8b100>\u001b[0m in \u001b[0;36mcom_sim\u001b[1;34m(user0_reviews, user1_reviews)\u001b[0m\n\u001b[0;32m      1\u001b[0m \u001b[1;32mdef\u001b[0m \u001b[0mcom_sim\u001b[0m\u001b[1;33m(\u001b[0m\u001b[0muser0_reviews\u001b[0m\u001b[1;33m,\u001b[0m \u001b[0muser1_reviews\u001b[0m\u001b[1;33m)\u001b[0m\u001b[1;33m:\u001b[0m\u001b[1;33m\u001b[0m\u001b[0m\n\u001b[1;32m----> 2\u001b[1;33m     \u001b[1;32mreturn\u001b[0m \u001b[0mpearsonr\u001b[0m\u001b[1;33m(\u001b[0m\u001b[0muser0_reviews\u001b[0m\u001b[1;33m,\u001b[0m \u001b[0muser1_reviews\u001b[0m\u001b[1;33m)\u001b[0m\u001b[1;33m[\u001b[0m\u001b[1;36m0\u001b[0m\u001b[1;33m]\u001b[0m\u001b[1;33m\u001b[0m\u001b[0m\n\u001b[0m",
      "\u001b[1;32mC:\\Users\\Wenyi Xu\\Anaconda3\\lib\\site-packages\\scipy\\stats\\stats.py\u001b[0m in \u001b[0;36mpearsonr\u001b[1;34m(x, y)\u001b[0m\n\u001b[0;32m   2996\u001b[0m     \u001b[0my\u001b[0m \u001b[1;33m=\u001b[0m \u001b[0mnp\u001b[0m\u001b[1;33m.\u001b[0m\u001b[0masarray\u001b[0m\u001b[1;33m(\u001b[0m\u001b[0my\u001b[0m\u001b[1;33m)\u001b[0m\u001b[1;33m\u001b[0m\u001b[0m\n\u001b[0;32m   2997\u001b[0m     \u001b[0mn\u001b[0m \u001b[1;33m=\u001b[0m \u001b[0mlen\u001b[0m\u001b[1;33m(\u001b[0m\u001b[0mx\u001b[0m\u001b[1;33m)\u001b[0m\u001b[1;33m\u001b[0m\u001b[0m\n\u001b[1;32m-> 2998\u001b[1;33m     \u001b[0mmx\u001b[0m \u001b[1;33m=\u001b[0m \u001b[0mx\u001b[0m\u001b[1;33m.\u001b[0m\u001b[0mmean\u001b[0m\u001b[1;33m(\u001b[0m\u001b[1;33m)\u001b[0m\u001b[1;33m\u001b[0m\u001b[0m\n\u001b[0m\u001b[0;32m   2999\u001b[0m     \u001b[0mmy\u001b[0m \u001b[1;33m=\u001b[0m \u001b[0my\u001b[0m\u001b[1;33m.\u001b[0m\u001b[0mmean\u001b[0m\u001b[1;33m(\u001b[0m\u001b[1;33m)\u001b[0m\u001b[1;33m\u001b[0m\u001b[0m\n\u001b[0;32m   3000\u001b[0m     \u001b[0mxm\u001b[0m\u001b[1;33m,\u001b[0m \u001b[0mym\u001b[0m \u001b[1;33m=\u001b[0m \u001b[0mx\u001b[0m \u001b[1;33m-\u001b[0m \u001b[0mmx\u001b[0m\u001b[1;33m,\u001b[0m \u001b[0my\u001b[0m \u001b[1;33m-\u001b[0m \u001b[0mmy\u001b[0m\u001b[1;33m\u001b[0m\u001b[0m\n",
      "\u001b[1;32mC:\\Users\\Wenyi Xu\\Anaconda3\\lib\\site-packages\\numpy\\core\\_methods.py\u001b[0m in \u001b[0;36m_mean\u001b[1;34m(a, axis, dtype, out, keepdims)\u001b[0m\n\u001b[0;32m     63\u001b[0m         \u001b[0mdtype\u001b[0m \u001b[1;33m=\u001b[0m \u001b[0mmu\u001b[0m\u001b[1;33m.\u001b[0m\u001b[0mdtype\u001b[0m\u001b[1;33m(\u001b[0m\u001b[1;34m'f8'\u001b[0m\u001b[1;33m)\u001b[0m\u001b[1;33m\u001b[0m\u001b[0m\n\u001b[0;32m     64\u001b[0m \u001b[1;33m\u001b[0m\u001b[0m\n\u001b[1;32m---> 65\u001b[1;33m     \u001b[0mret\u001b[0m \u001b[1;33m=\u001b[0m \u001b[0mumr_sum\u001b[0m\u001b[1;33m(\u001b[0m\u001b[0marr\u001b[0m\u001b[1;33m,\u001b[0m \u001b[0maxis\u001b[0m\u001b[1;33m,\u001b[0m \u001b[0mdtype\u001b[0m\u001b[1;33m,\u001b[0m \u001b[0mout\u001b[0m\u001b[1;33m,\u001b[0m \u001b[0mkeepdims\u001b[0m\u001b[1;33m)\u001b[0m\u001b[1;33m\u001b[0m\u001b[0m\n\u001b[0m\u001b[0;32m     66\u001b[0m     \u001b[1;32mif\u001b[0m \u001b[0misinstance\u001b[0m\u001b[1;33m(\u001b[0m\u001b[0mret\u001b[0m\u001b[1;33m,\u001b[0m \u001b[0mmu\u001b[0m\u001b[1;33m.\u001b[0m\u001b[0mndarray\u001b[0m\u001b[1;33m)\u001b[0m\u001b[1;33m:\u001b[0m\u001b[1;33m\u001b[0m\u001b[0m\n\u001b[0;32m     67\u001b[0m         ret = um.true_divide(\n",
      "\u001b[1;31mTypeError\u001b[0m: unsupported operand type(s) for +: 'float' and 'str'"
     ]
    }
   ],
   "source": [
    "#all_users = fulldf['UserId'].unique().tolist()\n",
    "#print(all_users[0])\n",
    "#print(type(all_users[0]))\n",
    "\n",
    "#print(set)\n",
    "print(k_nearest('A1001TYW5FZYD9', 1))"
   ]
  }
 ],
 "metadata": {
  "kernelspec": {
   "display_name": "Python 3",
   "language": "python",
   "name": "python3"
  },
  "language_info": {
   "codemirror_mode": {
    "name": "ipython",
    "version": 3
   },
   "file_extension": ".py",
   "mimetype": "text/x-python",
   "name": "python",
   "nbconvert_exporter": "python",
   "pygments_lexer": "ipython3",
   "version": "3.5.1"
  }
 },
 "nbformat": 4,
 "nbformat_minor": 0
}
