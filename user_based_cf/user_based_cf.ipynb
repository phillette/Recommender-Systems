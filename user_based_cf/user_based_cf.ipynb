{
 "cells": [
  {
   "cell_type": "markdown",
   "metadata": {},
   "source": [
    "# Recommendation System\n",
    "\n",
    "## User-Based Collaborative Filtering\n",
    "\n",
    "## Notebook by [WenyiXu](https://github.com/xuwenyihust)"
   ]
  },
  {
   "cell_type": "markdown",
   "metadata": {},
   "source": [
    "### Loading the data"
   ]
  },
  {
   "cell_type": "code",
   "execution_count": 12,
   "metadata": {
    "collapsed": false
   },
   "outputs": [
    {
     "name": "stdout",
     "output_type": "stream",
     "text": [
      "    Id   ProductId          UserId                      ProfileName  \\\n",
      "0  1.0  B001E4KFG0  A3SGXH7AUHU8GW                       delmartian   \n",
      "1  2.0  B00813GRG4  A1D87F6ZCVE5NK                           dll pa   \n",
      "2  3.0  B000LQOCH0   ABXLMWJIXXAIN  Natalia Corres \"Natalia Corres\"   \n",
      "3  4.0  B000UA0QIQ  A395BORC6FGVXV                             Karl   \n",
      "4  5.0  B006K2ZZ7K  A1UQRSCLF8GW1T    Michael D. Bigham \"M. Wassir\"   \n",
      "\n",
      "   HelpfulnessNumerator  HelpfulnessDenominator  Score          Time  \\\n",
      "0                   1.0                     1.0    5.0  1.303862e+09   \n",
      "1                   0.0                     0.0    1.0  1.346976e+09   \n",
      "2                   1.0                     1.0    4.0  1.219018e+09   \n",
      "3                   3.0                     3.0    2.0  1.307923e+09   \n",
      "4                   0.0                     0.0    5.0  1.350778e+09   \n",
      "\n",
      "                 Summary                                               Text  \n",
      "0  Good Quality Dog Food  I have bought several of the Vitality canned d...  \n",
      "1      Not as Advertised  Product arrived labeled as Jumbo Salted Peanut...  \n",
      "2  \"Delight\" says it all  This is a confection that has been around a fe...  \n",
      "3         Cough Medicine  If you are looking for the secret ingredient i...  \n",
      "4            Great taffy  Great taffy at a great price.  There was a wid...  \n"
     ]
    },
    {
     "name": "stderr",
     "output_type": "stream",
     "text": [
      "C:\\Users\\Wenyi Xu\\Anaconda3\\lib\\site-packages\\IPython\\core\\interactiveshell.py:2723: DtypeWarning: Columns (1,2,3,8,9) have mixed types. Specify dtype option on import or set low_memory=False.\n",
      "  interactivity=interactivity, compiler=compiler, result=result)\n"
     ]
    }
   ],
   "source": [
    "%matplotlib inline\n",
    "\n",
    "import pandas as pd\n",
    "import numpy as np\n",
    "import matplotlib.pyplot as plt\n",
    "import numpy as np\n",
    "from scipy.stats.stats import pearsonr\n",
    "\n",
    "from sklearn import cross_validation\n",
    "\n",
    "fulldf=pd.read_csv(\"https://raw.githubusercontent.com/xuwenyihust/Recommendation-Systems/master/data/amazon-fine-foods.csv\")\n",
    "print(fulldf.head(5))"
   ]
  },
  {
   "cell_type": "markdown",
   "metadata": {},
   "source": [
    "### Train/Test Split\n",
    "\n",
    "Split the train & test dataset, use the train subset to train the model, and validate the model using test subset."
   ]
  },
  {
   "cell_type": "code",
   "execution_count": 11,
   "metadata": {
    "collapsed": false
   },
   "outputs": [
    {
     "name": "stdout",
     "output_type": "stream",
     "text": [
      "(146604, 3) (146604, 3)\n",
      "(36652, 3) (36652, 3)\n"
     ]
    }
   ],
   "source": [
    "X = fulldf[['Id', 'ProductId', 'UserId']]\n",
    "y = fulldf[['Score', 'HelpfulnessNumerator', 'HelpfulnessDenominator']]\n",
    "\n",
    "X_train, X_test, y_train, y_test = cross_validation.train_test_split(X, y, test_size=0.2, random_state=42)\n",
    "\n",
    "print(X_train.shape, y_train.shape)\n",
    "print(X_test.shape, y_test.shape)"
   ]
  },
  {
   "cell_type": "markdown",
   "metadata": {},
   "source": [
    "### User-to-user similarity\n",
    "\n",
    "Define a function to compute the similarities between users.\n",
    "\n",
    "Based on Pearson correlation."
   ]
  },
  {
   "cell_type": "code",
   "execution_count": 13,
   "metadata": {
    "collapsed": true
   },
   "outputs": [],
   "source": [
    "def com_sim(user0, user1):\n",
    "    return pearsonr(user0, user1)[0] "
   ]
  },
  {
   "cell_type": "markdown",
   "metadata": {},
   "source": [
    "### K nearest users\n",
    "\n",
    "Given an active user and an item that hasn't been rated by him/her, find the K nearest users to that active one that have rated the item."
   ]
  },
  {
   "cell_type": "code",
   "execution_count": 14,
   "metadata": {
    "collapsed": true
   },
   "outputs": [],
   "source": [
    "def k_nearest(user, item, k):\n",
    "    all_users = fulldf.UserID.unique()\n",
    "    \n",
    "    "
   ]
  }
 ],
 "metadata": {
  "kernelspec": {
   "display_name": "Python 3",
   "language": "python",
   "name": "python3"
  },
  "language_info": {
   "codemirror_mode": {
    "name": "ipython",
    "version": 3
   },
   "file_extension": ".py",
   "mimetype": "text/x-python",
   "name": "python",
   "nbconvert_exporter": "python",
   "pygments_lexer": "ipython3",
   "version": "3.5.1"
  }
 },
 "nbformat": 4,
 "nbformat_minor": 0
}
