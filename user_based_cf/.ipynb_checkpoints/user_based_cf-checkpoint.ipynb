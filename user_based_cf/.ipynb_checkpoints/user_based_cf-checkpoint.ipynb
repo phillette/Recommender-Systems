{
 "cells": [
  {
   "cell_type": "markdown",
   "metadata": {},
   "source": [
    "# Recommendation System\n",
    "\n",
    "## User-Based Collaborative Filtering\n",
    "\n",
    "## Notebook by [WenyiXu](https://github.com/xuwenyihust)"
   ]
  },
  {
   "cell_type": "markdown",
   "metadata": {},
   "source": [
    "### Loading the data"
   ]
  },
  {
   "cell_type": "code",
   "execution_count": 1,
   "metadata": {
    "collapsed": false
   },
   "outputs": [
    {
     "name": "stderr",
     "output_type": "stream",
     "text": [
      "C:\\Users\\Wenyi Xu\\Anaconda3\\lib\\site-packages\\IPython\\core\\interactiveshell.py:2723: DtypeWarning: Columns (1,2,3,8,9) have mixed types. Specify dtype option on import or set low_memory=False.\n",
      "  interactivity=interactivity, compiler=compiler, result=result)\n"
     ]
    }
   ],
   "source": [
    "%matplotlib inline\n",
    "\n",
    "import pandas as pd\n",
    "import numpy as np\n",
    "import matplotlib.pyplot as plt\n",
    "import numpy as np\n",
    "from scipy.stats.stats import pearsonr\n",
    "\n",
    "from sklearn import cross_validation\n",
    "\n",
    "fulldf=pd.read_csv(\"https://raw.githubusercontent.com/xuwenyihust/Recommendation-Systems/master/data/amazon-fine-foods.csv\")\n",
    "fulldf = fulldf[:30000]"
   ]
  },
  {
   "cell_type": "code",
   "execution_count": 2,
   "metadata": {
    "collapsed": false
   },
   "outputs": [
    {
     "name": "stdout",
     "output_type": "stream",
     "text": [
      "    Id   ProductId          UserId                      ProfileName  \\\n",
      "0  1.0  B001E4KFG0  A3SGXH7AUHU8GW                       delmartian   \n",
      "1  2.0  B00813GRG4  A1D87F6ZCVE5NK                           dll pa   \n",
      "2  3.0  B000LQOCH0   ABXLMWJIXXAIN  Natalia Corres \"Natalia Corres\"   \n",
      "3  4.0  B000UA0QIQ  A395BORC6FGVXV                             Karl   \n",
      "4  5.0  B006K2ZZ7K  A1UQRSCLF8GW1T    Michael D. Bigham \"M. Wassir\"   \n",
      "\n",
      "   HelpfulnessNumerator  HelpfulnessDenominator  Score          Time  \\\n",
      "0                   1.0                     1.0    5.0  1.303862e+09   \n",
      "1                   0.0                     0.0    1.0  1.346976e+09   \n",
      "2                   1.0                     1.0    4.0  1.219018e+09   \n",
      "3                   3.0                     3.0    2.0  1.307923e+09   \n",
      "4                   0.0                     0.0    5.0  1.350778e+09   \n",
      "\n",
      "                 Summary                                               Text  \n",
      "0  Good Quality Dog Food  I have bought several of the Vitality canned d...  \n",
      "1      Not as Advertised  Product arrived labeled as Jumbo Salted Peanut...  \n",
      "2  \"Delight\" says it all  This is a confection that has been around a fe...  \n",
      "3         Cough Medicine  If you are looking for the secret ingredient i...  \n",
      "4            Great taffy  Great taffy at a great price.  There was a wid...  \n",
      "(30000, 10)\n"
     ]
    }
   ],
   "source": [
    "print(fulldf.head(5))\n",
    "print(fulldf.shape)"
   ]
  },
  {
   "cell_type": "markdown",
   "metadata": {},
   "source": [
    "### Train/Test Split\n",
    "\n",
    "Split the train & test dataset, use the train subset to train the model, and validate the model using test subset."
   ]
  },
  {
   "cell_type": "code",
   "execution_count": 3,
   "metadata": {
    "collapsed": false
   },
   "outputs": [
    {
     "name": "stdout",
     "output_type": "stream",
     "text": [
      "(24000, 3) (24000, 1)\n",
      "(6000, 3) (6000, 1)\n",
      "            Id   ProductId          UserId\n",
      "21753  21754.0  B000KV61FC  A348IMZWT01XQS\n",
      "251      252.0  B0017129DC  A2EPNS38TTLZYN\n",
      "22941  22942.0  B004ZIER34  A2OJCTT5WLB2HR\n",
      "618      619.0  B000G6RYNE  A3MTY0ZE9WYJHL\n",
      "17090  17091.0  B000A3Y2ME   AN1B5XNL63D2V\n",
      "            Id   ProductId          UserId\n",
      "2308    2309.0  B0002Z9BF8  A2JCKLHCJI1DLN\n",
      "22404  22405.0  B001HTJ49G  A21U03PVX582A9\n",
      "23397  23398.0  B004R8J8E0   ATLO3YXU2BC16\n",
      "25058  25059.0  B0078Y6OX8  A2FXB425NB476G\n",
      "2664    2665.0  B0016FY6H6  A32WSTQB6AVSBM\n"
     ]
    }
   ],
   "source": [
    "X = fulldf[['Id', 'ProductId', 'UserId']]\n",
    "y = fulldf[['Score']]\n",
    "\n",
    "X_train, X_test, y_train, y_test = cross_validation.train_test_split(X, y, test_size=0.2, random_state=42)\n",
    "\n",
    "print(X_train.shape, y_train.shape)\n",
    "print(X_test.shape, y_test.shape)\n",
    "\n",
    "print(X_train.head(5))\n",
    "print(X_test.head(5))"
   ]
  },
  {
   "cell_type": "markdown",
   "metadata": {},
   "source": [
    "### User-item matrix construction\n",
    "\n",
    "Transform the original table into a user-item matrix"
   ]
  },
  {
   "cell_type": "code",
   "execution_count": 4,
   "metadata": {
    "collapsed": false
   },
   "outputs": [
    {
     "name": "stderr",
     "output_type": "stream",
     "text": [
      "C:\\Users\\Wenyi Xu\\Anaconda3\\lib\\site-packages\\pandas\\core\\indexing.py:284: SettingWithCopyWarning: \n",
      "A value is trying to be set on a copy of a slice from a DataFrame.\n",
      "Try using .loc[row_indexer,col_indexer] = value instead\n",
      "\n",
      "See the caveats in the documentation: http://pandas.pydata.org/pandas-docs/stable/indexing.html#indexing-view-versus-copy\n",
      "  self.obj[key] = _infer_fill_value(value)\n",
      "C:\\Users\\Wenyi Xu\\Anaconda3\\lib\\site-packages\\pandas\\core\\indexing.py:461: SettingWithCopyWarning: \n",
      "A value is trying to be set on a copy of a slice from a DataFrame.\n",
      "Try using .loc[row_indexer,col_indexer] = value instead\n",
      "\n",
      "See the caveats in the documentation: http://pandas.pydata.org/pandas-docs/stable/indexing.html#indexing-view-versus-copy\n",
      "  self.obj[item] = s\n"
     ]
    },
    {
     "name": "stdout",
     "output_type": "stream",
     "text": [
      "            Id   ProductId          UserId  Score\n",
      "21753  21754.0  B000KV61FC  A348IMZWT01XQS    5.0\n",
      "251      252.0  B0017129DC  A2EPNS38TTLZYN    3.0\n",
      "22941  22942.0  B004ZIER34  A2OJCTT5WLB2HR    4.0\n",
      "618      619.0  B000G6RYNE  A3MTY0ZE9WYJHL    3.0\n",
      "17090  17091.0  B000A3Y2ME   AN1B5XNL63D2V    5.0\n",
      "(21019, 3440)\n",
      "ProductId           2734888454  B00002NCJC  B00002Z754  B00005V3DC  \\\n",
      "UserId                                                               \n",
      "#oc-R2HLGNHVIDQ0G1         NaN         NaN         NaN         NaN   \n",
      "#oc-R3LI5WJM4WD02C         NaN         NaN         NaN         NaN   \n",
      "A1001WVQ2UV7DD             NaN         NaN         NaN         NaN   \n",
      "A1003ACBU13X6E             NaN         NaN         NaN         NaN   \n",
      "A1004703RC79J9             NaN         NaN         NaN         NaN   \n",
      "\n",
      "ProductId           B000084DVR  B000084E1U  B000084EK4  B000084EK5  \\\n",
      "UserId                                                               \n",
      "#oc-R2HLGNHVIDQ0G1         NaN         NaN         NaN         NaN   \n",
      "#oc-R3LI5WJM4WD02C         NaN         NaN         NaN         NaN   \n",
      "A1001WVQ2UV7DD             NaN         NaN         NaN         NaN   \n",
      "A1003ACBU13X6E             NaN         NaN         NaN         NaN   \n",
      "A1004703RC79J9             NaN         NaN         NaN         NaN   \n",
      "\n",
      "ProductId           B000084EK7  B000084EK8     ...      B00961CUXO  \\\n",
      "UserId                                         ...                   \n",
      "#oc-R2HLGNHVIDQ0G1         NaN         NaN     ...             NaN   \n",
      "#oc-R3LI5WJM4WD02C         NaN         NaN     ...             NaN   \n",
      "A1001WVQ2UV7DD             NaN         NaN     ...             NaN   \n",
      "A1003ACBU13X6E             NaN         NaN     ...             NaN   \n",
      "A1004703RC79J9             NaN         NaN     ...             NaN   \n",
      "\n",
      "ProductId           B0096E5196  B0097KJ6ZY  B00995MODI  B009AVDFCK  \\\n",
      "UserId                                                               \n",
      "#oc-R2HLGNHVIDQ0G1         NaN         NaN         NaN         NaN   \n",
      "#oc-R3LI5WJM4WD02C         NaN         NaN         NaN         NaN   \n",
      "A1001WVQ2UV7DD             NaN         NaN         NaN         NaN   \n",
      "A1003ACBU13X6E             NaN         NaN         NaN         NaN   \n",
      "A1004703RC79J9             NaN         NaN         NaN         NaN   \n",
      "\n",
      "ProductId           B009D668KS  B009HINRX8  B009KP6HBM  B009UOFU20  B009WSNWC4  \n",
      "UserId                                                                          \n",
      "#oc-R2HLGNHVIDQ0G1         NaN         NaN         NaN         NaN         NaN  \n",
      "#oc-R3LI5WJM4WD02C         NaN         NaN         NaN         NaN         NaN  \n",
      "A1001WVQ2UV7DD             NaN         NaN         NaN         NaN         NaN  \n",
      "A1003ACBU13X6E             NaN         NaN         NaN         NaN         NaN  \n",
      "A1004703RC79J9             NaN         NaN         NaN         NaN         NaN  \n",
      "\n",
      "[5 rows x 3440 columns]\n"
     ]
    }
   ],
   "source": [
    "traindf = X_train\n",
    "traindf.loc[:,'Score'] = y_train\n",
    "print(traindf.head(5))\n",
    "matrix = traindf.pivot_table(index='UserId', columns='ProductId', values='Score')\n",
    "print(matrix.shape)\n",
    "print(matrix.head(5))"
   ]
  },
  {
   "cell_type": "markdown",
   "metadata": {},
   "source": [
    "### Brief Exploratory analysis"
   ]
  },
  {
   "cell_type": "code",
   "execution_count": null,
   "metadata": {
    "collapsed": true
   },
   "outputs": [],
   "source": [
    "item_review_counts = [0 for x in range(matrix.shape[0])]\n",
    "user_review_count = [0 for x in range(matrix.shape[1])]\n",
    "\n",
    "for i in range(matrix.shape[0]):\n",
    "    for j in range(matrix.shape[1]):\n",
    "        if matrix.iloc[i,j] != np.nan:\n",
    "            item_review_counts[i] += 1\n",
    "            \n",
    "#print(item_review_counts[:10])"
   ]
  },
  {
   "cell_type": "markdown",
   "metadata": {},
   "source": [
    "### User-to-user similarity\n",
    "\n",
    "Define a function to compute the similarities between users.\n",
    "\n",
    "Based on Pearson correlation."
   ]
  },
  {
   "cell_type": "code",
   "execution_count": 13,
   "metadata": {
    "collapsed": true
   },
   "outputs": [],
   "source": [
    "def com_sim(user0, user1):\n",
    "    return pearsonr(user0, user1)[0] "
   ]
  },
  {
   "cell_type": "markdown",
   "metadata": {},
   "source": [
    "### K nearest users\n",
    "\n",
    "Given an active user and an item that hasn't been rated by him/her, find the K nearest users to that active one that have rated the item."
   ]
  },
  {
   "cell_type": "code",
   "execution_count": 15,
   "metadata": {
    "collapsed": true
   },
   "outputs": [],
   "source": [
    "def k_nearest(user0, item, k):\n",
    "    all_users = fulldf.UserID.unique()\n",
    "    knu = []\n",
    "    for user1 in all_users:\n",
    "        if user0 != user1:\n",
    "            sim = com_sim(user0, user1)\n",
    "            if len(knu) < k:\n",
    "                knu.append([user1, sim])\n",
    "                knu = sorted(knu, key=lambda similarity: similarity[1])\n",
    "            else:\n",
    "                if sim > knu[-1][1]:\n",
    "                    knu[-1] = [user1, sim]\n",
    "                    knu = sorted(knu, key=lambda similarity: similarity[1])\n",
    "    "
   ]
  },
  {
   "cell_type": "markdown",
   "metadata": {},
   "source": [
    "Test the K nearest users function"
   ]
  },
  {
   "cell_type": "code",
   "execution_count": null,
   "metadata": {
    "collapsed": true
   },
   "outputs": [],
   "source": [
    "print(com_sim())"
   ]
  }
 ],
 "metadata": {
  "kernelspec": {
   "display_name": "Python 3",
   "language": "python",
   "name": "python3"
  },
  "language_info": {
   "codemirror_mode": {
    "name": "ipython",
    "version": 3
   },
   "file_extension": ".py",
   "mimetype": "text/x-python",
   "name": "python",
   "nbconvert_exporter": "python",
   "pygments_lexer": "ipython3",
   "version": "3.5.1"
  }
 },
 "nbformat": 4,
 "nbformat_minor": 0
}
